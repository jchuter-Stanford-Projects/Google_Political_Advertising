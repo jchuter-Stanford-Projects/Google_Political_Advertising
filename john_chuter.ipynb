{
  "nbformat": 4,
  "nbformat_minor": 0,
  "metadata": {
    "colab": {
      "name": "john_chuter.ipynb",
      "provenance": [],
      "collapsed_sections": [
        "gMNQWFvSgepX",
        "Fc_clta9g3H5",
        "Gmyyed-9JW1t",
        "2rEo5xFxd-Ae",
        "eOgk_Hh_dyxE",
        "oURWt8xX5UKv",
        "4COou412eGoP",
        "a1ieLBZoeHyH",
        "J9QxmklCdgO1",
        "WL0-95zAxbPX",
        "lMuXiyldx2yq",
        "4Ato9JWPd5P-",
        "ktxdE2X0eB1q",
        "bjDhXZYybsBD",
        "RtD1WZMucswJ"
      ]
    },
    "kernelspec": {
      "name": "python3",
      "display_name": "Python 3"
    }
  },
  "cells": [
    {
      "cell_type": "markdown",
      "metadata": {
        "id": "U5JUMgc_gbHp",
        "colab_type": "text"
      },
      "source": [
        "# CS145: Project 3 | Google Political Advertising is a 4.0"
      ]
    },
    {
      "cell_type": "markdown",
      "metadata": {
        "id": "EHDiv4GrhofN",
        "colab_type": "text"
      },
      "source": [
        "## Collaborators:\n",
        "Please list the names and SUNet IDs of your collaborators below:\n",
        "* John Chuter, jchuter"
      ]
    },
    {
      "cell_type": "markdown",
      "metadata": {
        "id": "gMNQWFvSgepX",
        "colab_type": "text"
      },
      "source": [
        "## Project Overview"
      ]
    },
    {
      "cell_type": "markdown",
      "metadata": {
        "id": "lX1Jkglwg1SI",
        "colab_type": "text"
      },
      "source": [
        "---\n",
        "Who targets whom with political advertising? \n",
        "\n",
        "First, to define the \"who\": the Democrat and Republican parties in the US. For the \"whom\": the groups within the US distinct by sex, age, and state. \n",
        "\n",
        "There are many sub-questions within that main question. Republicans target which group the most, which the least, and how does that compare to Democrats? The answers will address how the Republican and Democrat parties differ in their target demographics, broadly and precisely.\n",
        "\n",
        "For example, broadly speaking, which party spends the most on political advertising? More precisely, how much do Republicans spend targeting old males in Texas, versus young females in New York? \n",
        "\n",
        "---\n"
      ]
    },
    {
      "cell_type": "markdown",
      "metadata": {
        "id": "r_GvgTCcgv6N",
        "colab_type": "text"
      },
      "source": [
        "## Analysis of Dataset"
      ]
    },
    {
      "cell_type": "markdown",
      "metadata": {
        "id": "c6wGQ8ZPgyuJ",
        "colab_type": "text"
      },
      "source": [
        "This dataset [\"Google Political Ads\"](https://console.cloud.google.com/bigquery?p=bigquery-public-data&d=google_political_ads&page=dataset) broadly covers how Google Ads have been used politically. It includes multiple tables with a sum size of ~300mb. \n",
        "\n",
        "For exploration of the above question, those of relevant interest include `campaign_targeting`, `advertiser_stats`,  and `geo_spend`.\n",
        "\n",
        "First, `campaign_targeting`. This table is ~30mb, and details features about ad campaigns since August 2018 to the present. These include both the demographic information (features on age, gender, location) of the campaign, and the specific advertiser id responsible for it. It's primary key is `campaign_id`, `advertiser_id`, to disinguish specific advertisers who partook in specific campaigns. This dataset is of particular value for the machine learning task, described later in the appropriate section.\n",
        "\n",
        "Next, `advertiser_stats`. This identifies each advertiser, giving them custom ids `advertiser_id` and providing official names. These names can be researched, and labeled as Democrat or Republican. This can then be used in combination with the `campaign_targeting` table to identify advertiser parties with specific campaigns.\n",
        "\n",
        "Finally, `geo_spend`. This table offers a broad idea of how much money is being spent across the world (and across states). From this we can learn how much money is spent on advertising in the US, to better realize the scope of advertising and which areas (part of the \"whom\") it's affecting most.\n",
        "\n"
      ]
    },
    {
      "cell_type": "markdown",
      "metadata": {
        "id": "Fc_clta9g3H5",
        "colab_type": "text"
      },
      "source": [
        "## Data Exploration"
      ]
    },
    {
      "cell_type": "code",
      "metadata": {
        "id": "M4a_7W79dYt3",
        "colab_type": "code",
        "colab": {}
      },
      "source": [
        "from google.colab import auth\n",
        "auth.authenticate_user()\n",
        "project_id = \"cs145-p3-actual\""
      ],
      "execution_count": 0,
      "outputs": []
    },
    {
      "cell_type": "code",
      "metadata": {
        "id": "1l-5jCkZdZOD",
        "colab_type": "code",
        "colab": {}
      },
      "source": [
        "from google.cloud import bigquery\n",
        "client = bigquery.Client(project=project_id)"
      ],
      "execution_count": 0,
      "outputs": []
    },
    {
      "cell_type": "code",
      "metadata": {
        "id": "lLLlY_dLdoR-",
        "colab_type": "code",
        "colab": {}
      },
      "source": [
        "import matplotlib.pyplot as plt\n",
        "import numpy as np\n",
        "%matplotlib inline"
      ],
      "execution_count": 0,
      "outputs": []
    },
    {
      "cell_type": "markdown",
      "metadata": {
        "id": "Gmyyed-9JW1t",
        "colab_type": "text"
      },
      "source": [
        "## 0. Let's first define \"Republican\" and \"Democrat\".\n",
        "In order to analyze along partisan lines, we must first define who belongs to what party."
      ]
    },
    {
      "cell_type": "markdown",
      "metadata": {
        "id": "fMrHAc9c1uXx",
        "colab_type": "text"
      },
      "source": [
        "### By spending, which are top 5 democrat and republican advertisers?\n",
        "With this, we can analyze partisan data.\n",
        "Because this dataset lacks explicit party affiliation, with this query we can manually identify the main advertiser affiliations.\n",
        "\n",
        "Note: this is in flux. For example, `Michael Bloomberg 2020` was nowhere on these lists as of yesterday, but now he's the top-spending Democrat."
      ]
    },
    {
      "cell_type": "code",
      "metadata": {
        "id": "qB11Soaa2o2a",
        "colab_type": "code",
        "outputId": "542b93f3-00ca-444e-a62e-6d58a7c2a5b0",
        "colab": {
          "base_uri": "https://localhost:8080/",
          "height": 979
        }
      },
      "source": [
        "%%bigquery --project $project_id\n",
        "\n",
        "SELECT advertiser_id, advertiser_name\n",
        "FROM `bigquery-public-data.google_political_ads.advertiser_stats`\n",
        "where regions like '%US%'\n",
        "order by spend_usd desc\n",
        "LIMIT 30"
      ],
      "execution_count": 39,
      "outputs": [
        {
          "output_type": "execute_result",
          "data": {
            "text/html": [
              "<div>\n",
              "<style scoped>\n",
              "    .dataframe tbody tr th:only-of-type {\n",
              "        vertical-align: middle;\n",
              "    }\n",
              "\n",
              "    .dataframe tbody tr th {\n",
              "        vertical-align: top;\n",
              "    }\n",
              "\n",
              "    .dataframe thead th {\n",
              "        text-align: right;\n",
              "    }\n",
              "</style>\n",
              "<table border=\"1\" class=\"dataframe\">\n",
              "  <thead>\n",
              "    <tr style=\"text-align: right;\">\n",
              "      <th></th>\n",
              "      <th>advertiser_id</th>\n",
              "      <th>advertiser_name</th>\n",
              "    </tr>\n",
              "  </thead>\n",
              "  <tbody>\n",
              "    <tr>\n",
              "      <th>0</th>\n",
              "      <td>AR488306308034854912</td>\n",
              "      <td>TRUMP MAKE AMERICA GREAT AGAIN COMMITTEE</td>\n",
              "    </tr>\n",
              "    <tr>\n",
              "      <th>1</th>\n",
              "      <td>AR230475229367894016</td>\n",
              "      <td>SENATE LEADERSHIP FUND</td>\n",
              "    </tr>\n",
              "    <tr>\n",
              "      <th>2</th>\n",
              "      <td>AR458000056721604608</td>\n",
              "      <td>MIKE BLOOMBERG 2020 INC</td>\n",
              "    </tr>\n",
              "    <tr>\n",
              "      <th>3</th>\n",
              "      <td>AR470291909525372928</td>\n",
              "      <td>CONGRESSIONAL LEADERSHIP FUND</td>\n",
              "    </tr>\n",
              "    <tr>\n",
              "      <th>4</th>\n",
              "      <td>AR432709227698454528</td>\n",
              "      <td>TOM STEYER 2020</td>\n",
              "    </tr>\n",
              "    <tr>\n",
              "      <th>5</th>\n",
              "      <td>AR105500339708362752</td>\n",
              "      <td>DONALD J. TRUMP FOR PRESIDENT, INC.</td>\n",
              "    </tr>\n",
              "    <tr>\n",
              "      <th>6</th>\n",
              "      <td>AR101121809528651776</td>\n",
              "      <td>PETE FOR AMERICA, INC.</td>\n",
              "    </tr>\n",
              "    <tr>\n",
              "      <th>7</th>\n",
              "      <td>AR120847323008860160</td>\n",
              "      <td>DEDICATEDEMAILS.COM</td>\n",
              "    </tr>\n",
              "    <tr>\n",
              "      <th>8</th>\n",
              "      <td>AR157291735423123456</td>\n",
              "      <td>NRCC</td>\n",
              "    </tr>\n",
              "    <tr>\n",
              "      <th>9</th>\n",
              "      <td>AR140403236820484096</td>\n",
              "      <td>Need to Impeach</td>\n",
              "    </tr>\n",
              "    <tr>\n",
              "      <th>10</th>\n",
              "      <td>AR485896728302583808</td>\n",
              "      <td>WARREN FOR PRESIDENT, INC.</td>\n",
              "    </tr>\n",
              "    <tr>\n",
              "      <th>11</th>\n",
              "      <td>AR329053043867779072</td>\n",
              "      <td>PRIORITIES USA ACTION &amp; SMP</td>\n",
              "    </tr>\n",
              "    <tr>\n",
              "      <th>12</th>\n",
              "      <td>AR194446432348930048</td>\n",
              "      <td>NRSC</td>\n",
              "    </tr>\n",
              "    <tr>\n",
              "      <th>13</th>\n",
              "      <td>AR383080296477622272</td>\n",
              "      <td>BERNIE 2020</td>\n",
              "    </tr>\n",
              "    <tr>\n",
              "      <th>14</th>\n",
              "      <td>AR271344076572327936</td>\n",
              "      <td>INDEPENDENCE USA PAC</td>\n",
              "    </tr>\n",
              "    <tr>\n",
              "      <th>15</th>\n",
              "      <td>AR492809907662225408</td>\n",
              "      <td>BETO FOR TEXAS</td>\n",
              "    </tr>\n",
              "    <tr>\n",
              "      <th>16</th>\n",
              "      <td>AR312665922567405568</td>\n",
              "      <td>ONE NATION</td>\n",
              "    </tr>\n",
              "    <tr>\n",
              "      <th>17</th>\n",
              "      <td>AR50710026028843008</td>\n",
              "      <td>KAMALA HARRIS FOR THE PEOPLE</td>\n",
              "    </tr>\n",
              "    <tr>\n",
              "      <th>18</th>\n",
              "      <td>AR541269233389010944</td>\n",
              "      <td>PRIORITIES USA</td>\n",
              "    </tr>\n",
              "    <tr>\n",
              "      <th>19</th>\n",
              "      <td>AR276637125548441600</td>\n",
              "      <td>REPUBLICAN NATIONAL COMMITTEE</td>\n",
              "    </tr>\n",
              "    <tr>\n",
              "      <th>20</th>\n",
              "      <td>AR418326790973423616</td>\n",
              "      <td>EVERYTOWN FOR GUN SAFETY ACTION FUND, INC. PAC...</td>\n",
              "    </tr>\n",
              "    <tr>\n",
              "      <th>21</th>\n",
              "      <td>AR55282894888763392</td>\n",
              "      <td>BIDEN FOR PRESIDENT</td>\n",
              "    </tr>\n",
              "    <tr>\n",
              "      <th>22</th>\n",
              "      <td>AR424466463902924800</td>\n",
              "      <td>AMERICANS FOR PROSPERITY ACTION INC</td>\n",
              "    </tr>\n",
              "    <tr>\n",
              "      <th>23</th>\n",
              "      <td>AR89517838687010816</td>\n",
              "      <td>PRIORITIES USA ACTION &amp; HOUSE MAJORITY PAC</td>\n",
              "    </tr>\n",
              "    <tr>\n",
              "      <th>24</th>\n",
              "      <td>AR64967943062028288</td>\n",
              "      <td>RICK SCOTT FOR FLORIDA</td>\n",
              "    </tr>\n",
              "    <tr>\n",
              "      <th>25</th>\n",
              "      <td>AR248489627877376000</td>\n",
              "      <td>DCCC</td>\n",
              "    </tr>\n",
              "    <tr>\n",
              "      <th>26</th>\n",
              "      <td>AR374590417443749888</td>\n",
              "      <td>JUDICIAL WATCH INC</td>\n",
              "    </tr>\n",
              "    <tr>\n",
              "      <th>27</th>\n",
              "      <td>AR340024520645541888</td>\n",
              "      <td>TULSI NOW INC</td>\n",
              "    </tr>\n",
              "    <tr>\n",
              "      <th>28</th>\n",
              "      <td>AR291273824337395712</td>\n",
              "      <td>AMERICANS FOR PROSPERITY</td>\n",
              "    </tr>\n",
              "    <tr>\n",
              "      <th>29</th>\n",
              "      <td>AR49205344366231552</td>\n",
              "      <td>NEXTGEN CLIMATE ACTION COMMITTEE</td>\n",
              "    </tr>\n",
              "  </tbody>\n",
              "</table>\n",
              "</div>"
            ],
            "text/plain": [
              "           advertiser_id                                    advertiser_name\n",
              "0   AR488306308034854912           TRUMP MAKE AMERICA GREAT AGAIN COMMITTEE\n",
              "1   AR230475229367894016                             SENATE LEADERSHIP FUND\n",
              "2   AR458000056721604608                            MIKE BLOOMBERG 2020 INC\n",
              "3   AR470291909525372928                      CONGRESSIONAL LEADERSHIP FUND\n",
              "4   AR432709227698454528                                    TOM STEYER 2020\n",
              "5   AR105500339708362752                DONALD J. TRUMP FOR PRESIDENT, INC.\n",
              "6   AR101121809528651776                             PETE FOR AMERICA, INC.\n",
              "7   AR120847323008860160                                DEDICATEDEMAILS.COM\n",
              "8   AR157291735423123456                                               NRCC\n",
              "9   AR140403236820484096                                    Need to Impeach\n",
              "10  AR485896728302583808                         WARREN FOR PRESIDENT, INC.\n",
              "11  AR329053043867779072                        PRIORITIES USA ACTION & SMP\n",
              "12  AR194446432348930048                                               NRSC\n",
              "13  AR383080296477622272                                        BERNIE 2020\n",
              "14  AR271344076572327936                               INDEPENDENCE USA PAC\n",
              "15  AR492809907662225408                                     BETO FOR TEXAS\n",
              "16  AR312665922567405568                                         ONE NATION\n",
              "17   AR50710026028843008                       KAMALA HARRIS FOR THE PEOPLE\n",
              "18  AR541269233389010944                                     PRIORITIES USA\n",
              "19  AR276637125548441600                      REPUBLICAN NATIONAL COMMITTEE\n",
              "20  AR418326790973423616  EVERYTOWN FOR GUN SAFETY ACTION FUND, INC. PAC...\n",
              "21   AR55282894888763392                                BIDEN FOR PRESIDENT\n",
              "22  AR424466463902924800                AMERICANS FOR PROSPERITY ACTION INC\n",
              "23   AR89517838687010816         PRIORITIES USA ACTION & HOUSE MAJORITY PAC\n",
              "24   AR64967943062028288                             RICK SCOTT FOR FLORIDA\n",
              "25  AR248489627877376000                                               DCCC\n",
              "26  AR374590417443749888                                 JUDICIAL WATCH INC\n",
              "27  AR340024520645541888                                      TULSI NOW INC\n",
              "28  AR291273824337395712                           AMERICANS FOR PROSPERITY\n",
              "29   AR49205344366231552                   NEXTGEN CLIMATE ACTION COMMITTEE"
            ]
          },
          "metadata": {
            "tags": []
          },
          "execution_count": 39
        }
      ]
    },
    {
      "cell_type": "markdown",
      "metadata": {
        "id": "wjcVvCQM2nrq",
        "colab_type": "text"
      },
      "source": [
        "### The advertiser classifications:\n",
        "\n",
        "Republicans:\n",
        "1.\t\tAR488306308034854912 TRUMP MAKE AMERICA GREAT AGAIN COMMITTEE\n",
        "2.\tAR230475229367894016 SENATE LEADERSHIP FUND\n",
        "3.\tAR470291909525372928 CONGRESSIONAL LEADERSHIP FUND\n",
        "4.\tAR105500339708362752 DONALD J. TRUMP FOR PRESIDENT, INC.\n",
        "5. AR120847323008860160 DEDICATEDEMAILS.COM\n",
        "6.\tAR157291735423123456\tNRCC\n",
        "7.\tAR194446432348930048\tNRSC\n",
        "8.\tAR276637125548441600\tREPUBLICAN NATIONAL COMMITTEE\n",
        "9.\tAR424466463902924800\tAMERICANS FOR PROSPERITY ACTION INC\n",
        "10.\tAR89517838687010816\t\tPRIORITIES USA ACTION & HOUSE MAJORITY PAC\n",
        "\n",
        "IDs only:\n",
        "- (AR488306308034854912,\n",
        "AR230475229367894016,\n",
        "AR470291909525372928,\n",
        "AR105500339708362752,\n",
        "AR120847323008860160,\n",
        "AR157291735423123456,\n",
        "AR194446432348930048,\n",
        "AR276637125548441600,\n",
        "AR424466463902924800,\n",
        "AR89517838687010816)\n",
        "\n",
        "\n",
        "Democrats:\n",
        "1.\tAR458000056721604608 MIKE BLOOMBERG 2020 INC\n",
        "2.\tAR432709227698454528 TOM STEYER 2020\n",
        "3.\tAR101121809528651776 PETE FOR AMERICA, INC.\n",
        "4.\tAR140403236820484096 Need to Impeach\n",
        "5.\tAR485896728302583808 WARREN FOR PRESIDENT, INC.\n",
        "6.\tAR329053043867779072 PRIORITIES USA ACTION & SMP\n",
        "7.\tAR383080296477622272\tBERNIE 2020\n",
        "8.\tAR271344076572327936\tINDEPENDENCE USA PAC\n",
        "9.\tAR492809907662225408\tBETO FOR TEXAS\n",
        "10.\tAR50710026028843008\tKAMALA HARRIS FOR THE PEOPLE\n",
        "\n",
        "IDs only:\n",
        "- (\n",
        "AR458000056721604608,\n",
        "AR432709227698454528,\n",
        "AR101121809528651776,\n",
        "AR140403236820484096,\n",
        "AR485896728302583808,\n",
        "AR329053043867779072,\n",
        "AR383080296477622272,\n",
        "AR271344076572327936,\n",
        "AR492809907662225408,\n",
        "AR50710026028843008\n",
        ")"
      ]
    },
    {
      "cell_type": "markdown",
      "metadata": {
        "id": "qDARbEecNYTd",
        "colab_type": "text"
      },
      "source": [
        "## 1. Spending"
      ]
    },
    {
      "cell_type": "markdown",
      "metadata": {
        "id": "2rEo5xFxd-Ae",
        "colab_type": "text"
      },
      "source": [
        "### 1a: Which states are targeted?\n",
        "By spending, which states are the top 10?\n",
        "This relates to the previous question of what areas are most targeted by political advertising, to better understand the \"whom\"."
      ]
    },
    {
      "cell_type": "code",
      "metadata": {
        "id": "DSp_3Ab8rwZW",
        "colab_type": "code",
        "outputId": "125b2909-8173-40a9-f9e7-7ba9219eeba9",
        "colab": {
          "base_uri": "https://localhost:8080/",
          "height": 359
        }
      },
      "source": [
        "\"%%bigquery --project $project_id\n",
        "\n",
        "SELECT \n",
        "  country_subdivision_primary as State,\n",
        "  sum(spend_usd) usd\n",
        "FROM `bigquery-public-data.google_political_ads.geo_spend`\n",
        "WHERE country='US'\n",
        "GROUP BY country_subdivision_primary\n",
        "ORDER BY usd desc\n",
        "limit 10"
      ],
      "execution_count": 0,
      "outputs": [
        {
          "output_type": "execute_result",
          "data": {
            "text/html": [
              "<div>\n",
              "<style scoped>\n",
              "    .dataframe tbody tr th:only-of-type {\n",
              "        vertical-align: middle;\n",
              "    }\n",
              "\n",
              "    .dataframe tbody tr th {\n",
              "        vertical-align: top;\n",
              "    }\n",
              "\n",
              "    .dataframe thead th {\n",
              "        text-align: right;\n",
              "    }\n",
              "</style>\n",
              "<table border=\"1\" class=\"dataframe\">\n",
              "  <thead>\n",
              "    <tr style=\"text-align: right;\">\n",
              "      <th></th>\n",
              "      <th>State</th>\n",
              "      <th>usd</th>\n",
              "    </tr>\n",
              "  </thead>\n",
              "  <tbody>\n",
              "    <tr>\n",
              "      <th>0</th>\n",
              "      <td>US-FL</td>\n",
              "      <td>13102000</td>\n",
              "    </tr>\n",
              "    <tr>\n",
              "      <th>1</th>\n",
              "      <td>US-CA</td>\n",
              "      <td>11853400</td>\n",
              "    </tr>\n",
              "    <tr>\n",
              "      <th>2</th>\n",
              "      <td>US-TX</td>\n",
              "      <td>7514600</td>\n",
              "    </tr>\n",
              "    <tr>\n",
              "      <th>3</th>\n",
              "      <td>US-AZ</td>\n",
              "      <td>5693400</td>\n",
              "    </tr>\n",
              "    <tr>\n",
              "      <th>4</th>\n",
              "      <td>US-TN</td>\n",
              "      <td>5532600</td>\n",
              "    </tr>\n",
              "    <tr>\n",
              "      <th>5</th>\n",
              "      <td>US-NY</td>\n",
              "      <td>5427600</td>\n",
              "    </tr>\n",
              "    <tr>\n",
              "      <th>6</th>\n",
              "      <td>US-MO</td>\n",
              "      <td>5221400</td>\n",
              "    </tr>\n",
              "    <tr>\n",
              "      <th>7</th>\n",
              "      <td>US-PA</td>\n",
              "      <td>4443100</td>\n",
              "    </tr>\n",
              "    <tr>\n",
              "      <th>8</th>\n",
              "      <td>US-NV</td>\n",
              "      <td>4411500</td>\n",
              "    </tr>\n",
              "    <tr>\n",
              "      <th>9</th>\n",
              "      <td>US-IN</td>\n",
              "      <td>4366500</td>\n",
              "    </tr>\n",
              "  </tbody>\n",
              "</table>\n",
              "</div>"
            ],
            "text/plain": [
              "   State       usd\n",
              "0  US-FL  13102000\n",
              "1  US-CA  11853400\n",
              "2  US-TX   7514600\n",
              "3  US-AZ   5693400\n",
              "4  US-TN   5532600\n",
              "5  US-NY   5427600\n",
              "6  US-MO   5221400\n",
              "7  US-PA   4443100\n",
              "8  US-NV   4411500\n",
              "9  US-IN   4366500"
            ]
          },
          "metadata": {
            "tags": []
          },
          "execution_count": 60
        }
      ]
    },
    {
      "cell_type": "markdown",
      "metadata": {
        "id": "eOgk_Hh_dyxE",
        "colab_type": "text"
      },
      "source": [
        "### 1b: About the who: how much is being spent (USD) on political advertising in US?\n",
        "How big of a deal is political advertising in the US?\n"
      ]
    },
    {
      "cell_type": "code",
      "metadata": {
        "id": "RjAoSg5qdras",
        "colab_type": "code",
        "outputId": "82007ad9-4b81-405c-a7f4-c7242d159ffa",
        "colab": {
          "base_uri": "https://localhost:8080/",
          "height": 80
        }
      },
      "source": [
        "%%bigquery --project $project_id\n",
        "\n",
        "SELECT sum(spend_usd) as total_USD\n",
        "FROM `bigquery-public-data.google_political_ads.advertiser_stats`\n",
        "where regions like '%US%'"
      ],
      "execution_count": 0,
      "outputs": [
        {
          "output_type": "execute_result",
          "data": {
            "text/html": [
              "<div>\n",
              "<style scoped>\n",
              "    .dataframe tbody tr th:only-of-type {\n",
              "        vertical-align: middle;\n",
              "    }\n",
              "\n",
              "    .dataframe tbody tr th {\n",
              "        vertical-align: top;\n",
              "    }\n",
              "\n",
              "    .dataframe thead th {\n",
              "        text-align: right;\n",
              "    }\n",
              "</style>\n",
              "<table border=\"1\" class=\"dataframe\">\n",
              "  <thead>\n",
              "    <tr style=\"text-align: right;\">\n",
              "      <th></th>\n",
              "      <th>total_USD</th>\n",
              "    </tr>\n",
              "  </thead>\n",
              "  <tbody>\n",
              "    <tr>\n",
              "      <th>0</th>\n",
              "      <td>122045200</td>\n",
              "    </tr>\n",
              "  </tbody>\n",
              "</table>\n",
              "</div>"
            ],
            "text/plain": [
              "   total_USD\n",
              "0  122045200"
            ]
          },
          "metadata": {
            "tags": []
          },
          "execution_count": 5
        }
      ]
    },
    {
      "cell_type": "markdown",
      "metadata": {
        "id": "F4hDjlow5oFW",
        "colab_type": "text"
      },
      "source": [
        "### 1c: More specifically, how much is spent (USD), by party?\n",
        "Who's doing most of the advertising?\n"
      ]
    },
    {
      "cell_type": "markdown",
      "metadata": {
        "id": "tukrJ0gS3bNK",
        "colab_type": "text"
      },
      "source": [
        "Spending by top 5 advertisers of each party:"
      ]
    },
    {
      "cell_type": "code",
      "metadata": {
        "id": "KKC5r2Ly3hw5",
        "colab_type": "code",
        "colab": {
          "base_uri": "https://localhost:8080/",
          "height": 80
        },
        "outputId": "47b5e5df-2dfb-4c69-81c9-557a6cc221d4"
      },
      "source": [
        "%%bigquery --project $project_id\n",
        "\n",
        "select \n",
        "(SELECT sum(spend_usd) as total_USD\n",
        "FROM `bigquery-public-data.google_political_ads.advertiser_stats`\n",
        "where regions like '%US%'\n",
        "and advertiser_id in (\n",
        "'AR488306308034854912',\n",
        "'AR230475229367894016',\n",
        "'AR470291909525372928',\n",
        "'AR105500339708362752',\n",
        "'AR120847323008860160'\n",
        ")) as republican_spending,\n",
        "\n",
        "(SELECT sum(spend_usd) as total_USD\n",
        "FROM `bigquery-public-data.google_political_ads.advertiser_stats`\n",
        "where regions like '%US%'\n",
        "and advertiser_id in (\n",
        "'AR458000056721604608',\n",
        "'AR432709227698454528',\n",
        "'AR101121809528651776',\n",
        "'AR140403236820484096',\n",
        "'AR485896728302583808'\n",
        ")) as democrat_spending"
      ],
      "execution_count": 41,
      "outputs": [
        {
          "output_type": "execute_result",
          "data": {
            "text/html": [
              "<div>\n",
              "<style scoped>\n",
              "    .dataframe tbody tr th:only-of-type {\n",
              "        vertical-align: middle;\n",
              "    }\n",
              "\n",
              "    .dataframe tbody tr th {\n",
              "        vertical-align: top;\n",
              "    }\n",
              "\n",
              "    .dataframe thead th {\n",
              "        text-align: right;\n",
              "    }\n",
              "</style>\n",
              "<table border=\"1\" class=\"dataframe\">\n",
              "  <thead>\n",
              "    <tr style=\"text-align: right;\">\n",
              "      <th></th>\n",
              "      <th>republican_spending</th>\n",
              "      <th>democrat_spending</th>\n",
              "    </tr>\n",
              "  </thead>\n",
              "  <tbody>\n",
              "    <tr>\n",
              "      <th>0</th>\n",
              "      <td>26035600</td>\n",
              "      <td>19464100</td>\n",
              "    </tr>\n",
              "  </tbody>\n",
              "</table>\n",
              "</div>"
            ],
            "text/plain": [
              "   republican_spending  democrat_spending\n",
              "0             26035600           19464100"
            ]
          },
          "metadata": {
            "tags": []
          },
          "execution_count": 41
        }
      ]
    },
    {
      "cell_type": "code",
      "metadata": {
        "id": "AwXK--t9thWU",
        "colab_type": "code",
        "outputId": "e0a34278-2080-4235-d868-c905eb07f78e",
        "colab": {
          "base_uri": "https://localhost:8080/",
          "height": 248
        }
      },
      "source": [
        "labels = 'Republicans', 'Democrats'\n",
        "colors = ['xkcd:red', 'xkcd:blue']\n",
        "spending = [26035600, 19464100]\n",
        "fig1, ax1 = plt.subplots()\n",
        "ax1.pie(spending, labels=labels, colors=colors, autopct='%1.1f%%',\n",
        "        shadow=True, startangle=90)\n",
        "plt.show()\n"
      ],
      "execution_count": 42,
      "outputs": [
        {
          "output_type": "display_data",
          "data": {
            "image/png": "[encoded data removed]",
            "text/plain": [
              "<Figure size 432x288 with 1 Axes>"
            ]
          },
          "metadata": {
            "tags": []
          }
        }
      ]
    },
    {
      "cell_type": "markdown",
      "metadata": {
        "id": "zHsek9RKmbl4",
        "colab_type": "text"
      },
      "source": [
        "*NOTE*: including this data to demonstrate two caveats to this analysis. \n",
        "\n",
        "1. As of yesterday, Dec 2:\n",
        "\"Republicans spend significantly more than Democrats on advertising (~20% of total, or 150% of what Democrats do).\"\n",
        "Today, Dec 3, that is less true; it's now a 15% difference of the total.\n",
        "\n",
        "2. Also, when we expand to the top 10, the figures shift."
      ]
    },
    {
      "cell_type": "markdown",
      "metadata": {
        "id": "u0ekwlYR3fpB",
        "colab_type": "text"
      },
      "source": [
        "Spending by top 10 advertisers of each party:"
      ]
    },
    {
      "cell_type": "code",
      "metadata": {
        "id": "jLBigih0taip",
        "colab_type": "code",
        "outputId": "896a8794-5cf8-4022-82b3-3f3f0428f88f",
        "colab": {
          "base_uri": "https://localhost:8080/",
          "height": 80
        }
      },
      "source": [
        "%%bigquery --project $project_id\n",
        "\n",
        "select \n",
        "(SELECT sum(spend_usd) as total_USD\n",
        "FROM `bigquery-public-data.google_political_ads.advertiser_stats`\n",
        "where regions like '%US%'\n",
        "and advertiser_id in (\n",
        "'AR488306308034854912',\n",
        "'AR230475229367894016',\n",
        "'AR470291909525372928',\n",
        "'AR105500339708362752',\n",
        "'AR120847323008860160',\n",
        "'AR157291735423123456',\n",
        "'AR194446432348930048',\n",
        "'AR276637125548441600',\n",
        "'AR424466463902924800',\n",
        "'AR89517838687010816')) as republican_spending,\n",
        "\n",
        "(SELECT sum(spend_usd) as total_USD\n",
        "FROM `bigquery-public-data.google_political_ads.advertiser_stats`\n",
        "where regions like '%US%'\n",
        "and advertiser_id in (\n",
        "'AR458000056721604608',\n",
        "'AR432709227698454528',\n",
        "'AR101121809528651776',\n",
        "'AR140403236820484096',\n",
        "'AR485896728302583808',\n",
        "'AR329053043867779072',\n",
        "'AR383080296477622272',\n",
        "'AR271344076572327936',\n",
        "'AR492809907662225408',\n",
        "'AR50710026028843008'\n",
        ")) as democrat_spending"
      ],
      "execution_count": 40,
      "outputs": [
        {
          "output_type": "execute_result",
          "data": {
            "text/html": [
              "<div>\n",
              "<style scoped>\n",
              "    .dataframe tbody tr th:only-of-type {\n",
              "        vertical-align: middle;\n",
              "    }\n",
              "\n",
              "    .dataframe tbody tr th {\n",
              "        vertical-align: top;\n",
              "    }\n",
              "\n",
              "    .dataframe thead th {\n",
              "        text-align: right;\n",
              "    }\n",
              "</style>\n",
              "<table border=\"1\" class=\"dataframe\">\n",
              "  <thead>\n",
              "    <tr style=\"text-align: right;\">\n",
              "      <th></th>\n",
              "      <th>republican_spending</th>\n",
              "      <th>democrat_spending</th>\n",
              "    </tr>\n",
              "  </thead>\n",
              "  <tbody>\n",
              "    <tr>\n",
              "      <th>0</th>\n",
              "      <td>36375700</td>\n",
              "      <td>30350700</td>\n",
              "    </tr>\n",
              "  </tbody>\n",
              "</table>\n",
              "</div>"
            ],
            "text/plain": [
              "   republican_spending  democrat_spending\n",
              "0             36375700           30350700"
            ]
          },
          "metadata": {
            "tags": []
          },
          "execution_count": 40
        }
      ]
    },
    {
      "cell_type": "code",
      "metadata": {
        "id": "IBnGydTg4lgz",
        "colab_type": "code",
        "colab": {
          "base_uri": "https://localhost:8080/",
          "height": 248
        },
        "outputId": "ad79e920-0e9e-41f8-df8d-fa279117f180"
      },
      "source": [
        "labels = 'Republicans', 'Democrats'\n",
        "colors = ['xkcd:red', 'xkcd:blue']\n",
        "spending = [36375700, 30350700]\n",
        "fig1, ax1 = plt.subplots()\n",
        "ax1.pie(spending, labels=labels, colors=colors, autopct='%1.1f%%',\n",
        "        shadow=True, startangle=90)\n",
        "plt.show()"
      ],
      "execution_count": 43,
      "outputs": [
        {
          "output_type": "display_data",
          "data": {
            "image/png": "[encoded data removed]",
            "text/plain": [
              "<Figure size 432x288 with 1 Axes>"
            ]
          },
          "metadata": {
            "tags": []
          }
        }
      ]
    },
    {
      "cell_type": "markdown",
      "metadata": {
        "id": "77CyEyej4LYn",
        "colab_type": "text"
      },
      "source": [
        "Again, summing across the top 10 advertisers for each party, Republican still spend more -albeit now only 54.5 to 45.5. \n",
        "\n",
        "Expanding out to 20, 100, etc parties might change the picture more.\n",
        "\n",
        "However, this also provides a nice insight into both parties: Republican spending is centralized, whereas Democrat spending is more decentralized. Democrats are split between numerous advertisers (largely specific to candidates) whereas Republicans are more unified."
      ]
    },
    {
      "cell_type": "markdown",
      "metadata": {
        "id": "kn2ZIftMNnlB",
        "colab_type": "text"
      },
      "source": [
        "## 2. Targeting, Count\n",
        "We'll first pass through the relationships between ad count and party, ad count and age, then ad count and sex. \n",
        "\n",
        "Next, we'll look a little more closely by combining these, looking at ad count with respect to sex and age.\n",
        "\n",
        "Finally, we'll examine party differences along these features, looking at ad count with respect to age and party, sex and party. \n"
      ]
    },
    {
      "cell_type": "markdown",
      "metadata": {
        "id": "oURWt8xX5UKv",
        "colab_type": "text"
      },
      "source": [
        "### 2a: Ad Count by Party\n",
        "Let's first get a baseline for who creates more ads, to better contextualize the numbers we see later."
      ]
    },
    {
      "cell_type": "code",
      "metadata": {
        "id": "NlVLi77y5Yg8",
        "colab_type": "code",
        "outputId": "3232b6a8-edc9-48d4-b816-b8ef3a60ecfa",
        "colab": {
          "base_uri": "https://localhost:8080/",
          "height": 80
        }
      },
      "source": [
        "# republicans\n",
        "%%bigquery --project $project_id\n",
        "\n",
        "\n",
        "select\n",
        "  sum(array_length(split(ads_list, \",\"))) as republican_ad_count\n",
        "from\n",
        "  `bigquery-public-data.google_political_ads.campaign_targeting`\n",
        "where \n",
        "  advertiser_id in (\n",
        "  'AR488306308034854912',\n",
        "  'AR230475229367894016',\n",
        "  'AR470291909525372928',\n",
        "  'AR105500339708362752',\n",
        "  'AR120847323008860160',\n",
        "  'AR157291735423123456',\n",
        "  'AR194446432348930048',\n",
        "  'AR276637125548441600',\n",
        "  'AR424466463902924800',\n",
        "  'AR89517838687010816')\n"
      ],
      "execution_count": 44,
      "outputs": [
        {
          "output_type": "execute_result",
          "data": {
            "text/html": [
              "<div>\n",
              "<style scoped>\n",
              "    .dataframe tbody tr th:only-of-type {\n",
              "        vertical-align: middle;\n",
              "    }\n",
              "\n",
              "    .dataframe tbody tr th {\n",
              "        vertical-align: top;\n",
              "    }\n",
              "\n",
              "    .dataframe thead th {\n",
              "        text-align: right;\n",
              "    }\n",
              "</style>\n",
              "<table border=\"1\" class=\"dataframe\">\n",
              "  <thead>\n",
              "    <tr style=\"text-align: right;\">\n",
              "      <th></th>\n",
              "      <th>republican_ad_count</th>\n",
              "    </tr>\n",
              "  </thead>\n",
              "  <tbody>\n",
              "    <tr>\n",
              "      <th>0</th>\n",
              "      <td>57703</td>\n",
              "    </tr>\n",
              "  </tbody>\n",
              "</table>\n",
              "</div>"
            ],
            "text/plain": [
              "   republican_ad_count\n",
              "0                57703"
            ]
          },
          "metadata": {
            "tags": []
          },
          "execution_count": 44
        }
      ]
    },
    {
      "cell_type": "code",
      "metadata": {
        "id": "-cgOyB0H57oX",
        "colab_type": "code",
        "outputId": "2d05773c-29e4-45f1-f079-9c8c95d2e724",
        "colab": {
          "base_uri": "https://localhost:8080/",
          "height": 80
        }
      },
      "source": [
        "# democrats\n",
        "%%bigquery --project $project_id\n",
        "\n",
        "\n",
        "select\n",
        "  sum(array_length(split(ads_list, \",\"))) as democrat_ad_count\n",
        "from\n",
        "  `bigquery-public-data.google_political_ads.campaign_targeting`\n",
        "where \n",
        "  advertiser_id in (\n",
        "  'AR458000056721604608',\n",
        "  'AR432709227698454528',\n",
        "  'AR101121809528651776',\n",
        "  'AR140403236820484096',\n",
        "  'AR485896728302583808',\n",
        "  'AR329053043867779072',\n",
        "  'AR383080296477622272',\n",
        "  'AR271344076572327936',\n",
        "  'AR492809907662225408',\n",
        "  'AR50710026028843008')"
      ],
      "execution_count": 45,
      "outputs": [
        {
          "output_type": "execute_result",
          "data": {
            "text/html": [
              "<div>\n",
              "<style scoped>\n",
              "    .dataframe tbody tr th:only-of-type {\n",
              "        vertical-align: middle;\n",
              "    }\n",
              "\n",
              "    .dataframe tbody tr th {\n",
              "        vertical-align: top;\n",
              "    }\n",
              "\n",
              "    .dataframe thead th {\n",
              "        text-align: right;\n",
              "    }\n",
              "</style>\n",
              "<table border=\"1\" class=\"dataframe\">\n",
              "  <thead>\n",
              "    <tr style=\"text-align: right;\">\n",
              "      <th></th>\n",
              "      <th>deomcrat_ad_count</th>\n",
              "    </tr>\n",
              "  </thead>\n",
              "  <tbody>\n",
              "    <tr>\n",
              "      <th>0</th>\n",
              "      <td>25965</td>\n",
              "    </tr>\n",
              "  </tbody>\n",
              "</table>\n",
              "</div>"
            ],
            "text/plain": [
              "   deomcrat_ad_count\n",
              "0              25965"
            ]
          },
          "metadata": {
            "tags": []
          },
          "execution_count": 45
        }
      ]
    },
    {
      "cell_type": "markdown",
      "metadata": {
        "id": "R4R3vmLtm8FJ",
        "colab_type": "text"
      },
      "source": [
        "With the spending from the previous section in mind, this implies that Democrats create less than half the ads of Republicans, but spend roughly double on those ads."
      ]
    },
    {
      "cell_type": "markdown",
      "metadata": {
        "id": "4COou412eGoP",
        "colab_type": "text"
      },
      "source": [
        "### 2b: Ad Count by Age\n",
        "Let's first look at differences by age, irrespective of party."
      ]
    },
    {
      "cell_type": "code",
      "metadata": {
        "id": "Okg4QfZa85kk",
        "colab_type": "code",
        "outputId": "9bdfd10b-1b40-4946-b668-6860abca8487",
        "colab": {
          "base_uri": "https://localhost:8080/",
          "height": 80
        }
      },
      "source": [
        "# where rows are: \n",
        "# 18–24, 25–34, 35–44, 45–54, 55–64, ≥65\n",
        "\n",
        "%%bigquery --project $project_id\n",
        "\n",
        "select\n",
        "\n",
        "(select\n",
        "  sum(array_length(split(ads_list, \",\"))) as number_ads_targeting_ageRange\n",
        "from\n",
        "  `bigquery-public-data.google_political_ads.campaign_targeting`\n",
        "where \n",
        "  age_targeting like \"%18–24%\"\n",
        "  and advertiser_id  in (\n",
        "  'AR488306308034854912',\n",
        "  'AR230475229367894016',\n",
        "  'AR470291909525372928',\n",
        "  'AR105500339708362752',\n",
        "  'AR120847323008860160',\n",
        "  'AR157291735423123456',\n",
        "  'AR194446432348930048',\n",
        "  'AR276637125548441600',\n",
        "  'AR424466463902924800',\n",
        "  'AR89517838687010816',\n",
        "  'AR458000056721604608',\n",
        "  'AR432709227698454528',\n",
        "  'AR101121809528651776',\n",
        "  'AR140403236820484096',\n",
        "  'AR485896728302583808',\n",
        "  'AR329053043867779072',\n",
        "  'AR383080296477622272',\n",
        "  'AR271344076572327936',\n",
        "  'AR492809907662225408',\n",
        "  'AR50710026028843008'\n",
        "  )\n",
        ") as ages18To24,\n",
        "\n",
        "(select\n",
        "  sum(array_length(split(ads_list, \",\")))\n",
        "from\n",
        "  `bigquery-public-data.google_political_ads.campaign_targeting`\n",
        "where \n",
        "  age_targeting like \"%25–34%\"\n",
        "  and advertiser_id  in (\n",
        "  'AR488306308034854912',\n",
        "  'AR230475229367894016',\n",
        "  'AR470291909525372928',\n",
        "  'AR105500339708362752',\n",
        "  'AR120847323008860160',\n",
        "  'AR157291735423123456',\n",
        "  'AR194446432348930048',\n",
        "  'AR276637125548441600',\n",
        "  'AR424466463902924800',\n",
        "  'AR89517838687010816',\n",
        "  'AR458000056721604608',\n",
        "  'AR432709227698454528',\n",
        "  'AR101121809528651776',\n",
        "  'AR140403236820484096',\n",
        "  'AR485896728302583808',\n",
        "  'AR329053043867779072',\n",
        "  'AR383080296477622272',\n",
        "  'AR271344076572327936',\n",
        "  'AR492809907662225408',\n",
        "  'AR50710026028843008'\n",
        "  )\n",
        ") as ages25To34,\n",
        "\n",
        "(select\n",
        "  sum(array_length(split(ads_list, \",\")))\n",
        "from\n",
        "  `bigquery-public-data.google_political_ads.campaign_targeting`\n",
        "where \n",
        "  age_targeting like \"%35–44%\"\n",
        "  and advertiser_id  in (\n",
        "  'AR488306308034854912',\n",
        "  'AR230475229367894016',\n",
        "  'AR470291909525372928',\n",
        "  'AR105500339708362752',\n",
        "  'AR120847323008860160',\n",
        "  'AR157291735423123456',\n",
        "  'AR194446432348930048',\n",
        "  'AR276637125548441600',\n",
        "  'AR424466463902924800',\n",
        "  'AR89517838687010816',\n",
        "  'AR458000056721604608',\n",
        "  'AR432709227698454528',\n",
        "  'AR101121809528651776',\n",
        "  'AR140403236820484096',\n",
        "  'AR485896728302583808',\n",
        "  'AR329053043867779072',\n",
        "  'AR383080296477622272',\n",
        "  'AR271344076572327936',\n",
        "  'AR492809907662225408',\n",
        "  'AR50710026028843008'\n",
        "  )\n",
        ") as ages35To44,\n",
        "\n",
        "(select\n",
        "  sum(array_length(split(ads_list, \",\")))\n",
        "from\n",
        "  `bigquery-public-data.google_political_ads.campaign_targeting`\n",
        "where \n",
        "  age_targeting like \"%45–54%\"\n",
        "  and advertiser_id  in (\n",
        "  'AR488306308034854912',\n",
        "  'AR230475229367894016',\n",
        "  'AR470291909525372928',\n",
        "  'AR105500339708362752',\n",
        "  'AR120847323008860160',\n",
        "  'AR157291735423123456',\n",
        "  'AR194446432348930048',\n",
        "  'AR276637125548441600',\n",
        "  'AR424466463902924800',\n",
        "  'AR89517838687010816',\n",
        "  'AR458000056721604608',\n",
        "  'AR432709227698454528',\n",
        "  'AR101121809528651776',\n",
        "  'AR140403236820484096',\n",
        "  'AR485896728302583808',\n",
        "  'AR329053043867779072',\n",
        "  'AR383080296477622272',\n",
        "  'AR271344076572327936',\n",
        "  'AR492809907662225408',\n",
        "  'AR50710026028843008'\n",
        "  )\n",
        ") as ages45To55,\n",
        "(select\n",
        "  sum(array_length(split(ads_list, \",\")))\n",
        "from\n",
        "  `bigquery-public-data.google_political_ads.campaign_targeting`\n",
        "where \n",
        "  age_targeting like \"%55–64%\"\n",
        "  and advertiser_id   in (\n",
        "  'AR488306308034854912',\n",
        "  'AR230475229367894016',\n",
        "  'AR470291909525372928',\n",
        "  'AR105500339708362752',\n",
        "  'AR120847323008860160',\n",
        "  'AR157291735423123456',\n",
        "  'AR194446432348930048',\n",
        "  'AR276637125548441600',\n",
        "  'AR424466463902924800',\n",
        "  'AR89517838687010816',\n",
        "  'AR458000056721604608',\n",
        "  'AR432709227698454528',\n",
        "  'AR101121809528651776',\n",
        "  'AR140403236820484096',\n",
        "  'AR485896728302583808',\n",
        "  'AR329053043867779072',\n",
        "  'AR383080296477622272',\n",
        "  'AR271344076572327936',\n",
        "  'AR492809907662225408',\n",
        "  'AR50710026028843008'\n",
        "  )\n",
        ") as ages55To64,\n",
        "\n",
        "(select \n",
        "  sum(array_length(split(ads_list, \",\")))\n",
        "from\n",
        "  `bigquery-public-data.google_political_ads.campaign_targeting`\n",
        "where \n",
        "  age_targeting like \"%65%\"\n",
        "  and advertiser_id  in (\n",
        "  'AR488306308034854912',\n",
        "  'AR230475229367894016',\n",
        "  'AR470291909525372928',\n",
        "  'AR105500339708362752',\n",
        "  'AR120847323008860160',\n",
        "  'AR157291735423123456',\n",
        "  'AR194446432348930048',\n",
        "  'AR276637125548441600',\n",
        "  'AR424466463902924800',\n",
        "  'AR89517838687010816',\n",
        "  'AR458000056721604608',\n",
        "  'AR432709227698454528',\n",
        "  'AR101121809528651776',\n",
        "  'AR140403236820484096',\n",
        "  'AR485896728302583808',\n",
        "  'AR329053043867779072',\n",
        "  'AR383080296477622272',\n",
        "  'AR271344076572327936',\n",
        "  'AR492809907662225408',\n",
        "  'AR50710026028843008'\n",
        "  )\n",
        ") as ages65Plus\n",
        "\n",
        "\n",
        "\n",
        "\n"
      ],
      "execution_count": 48,
      "outputs": [
        {
          "output_type": "execute_result",
          "data": {
            "text/html": [
              "<div>\n",
              "<style scoped>\n",
              "    .dataframe tbody tr th:only-of-type {\n",
              "        vertical-align: middle;\n",
              "    }\n",
              "\n",
              "    .dataframe tbody tr th {\n",
              "        vertical-align: top;\n",
              "    }\n",
              "\n",
              "    .dataframe thead th {\n",
              "        text-align: right;\n",
              "    }\n",
              "</style>\n",
              "<table border=\"1\" class=\"dataframe\">\n",
              "  <thead>\n",
              "    <tr style=\"text-align: right;\">\n",
              "      <th></th>\n",
              "      <th>ages18To24</th>\n",
              "      <th>ages25To34</th>\n",
              "      <th>ages35To44</th>\n",
              "      <th>ages45To55</th>\n",
              "      <th>ages55To64</th>\n",
              "      <th>ages65Plus</th>\n",
              "    </tr>\n",
              "  </thead>\n",
              "  <tbody>\n",
              "    <tr>\n",
              "      <th>0</th>\n",
              "      <td>41130</td>\n",
              "      <td>41214</td>\n",
              "      <td>41766</td>\n",
              "      <td>41998</td>\n",
              "      <td>42151</td>\n",
              "      <td>42179</td>\n",
              "    </tr>\n",
              "  </tbody>\n",
              "</table>\n",
              "</div>"
            ],
            "text/plain": [
              "   ages18To24  ages25To34  ages35To44  ages45To55  ages55To64  ages65Plus\n",
              "0       41130       41214       41766       41998       42151       42179"
            ]
          },
          "metadata": {
            "tags": []
          },
          "execution_count": 48
        }
      ]
    },
    {
      "cell_type": "markdown",
      "metadata": {
        "id": "7ksBLXERAuKf",
        "colab_type": "text"
      },
      "source": [
        "The youngest voters are least targeted, with ad count generally increasing with age. Perhaps because young people vote less."
      ]
    },
    {
      "cell_type": "markdown",
      "metadata": {
        "id": "a1ieLBZoeHyH",
        "colab_type": "text"
      },
      "source": [
        "### 2c: Ad Count by Sex"
      ]
    },
    {
      "cell_type": "code",
      "metadata": {
        "id": "4ZL-F4NY8AUT",
        "colab_type": "code",
        "outputId": "6440a3ab-fcdf-4507-cf75-cbbb05a42a57",
        "colab": {
          "base_uri": "https://localhost:8080/",
          "height": 80
        }
      },
      "source": [
        "%%bigquery --project $project_id\n",
        "\n",
        "select\n",
        "  sum(array_length(split(ads_list, \",\"))) as number_ads_targeting_males\n",
        "from\n",
        "  `bigquery-public-data.google_political_ads.campaign_targeting`\n",
        "where\n",
        "  gender_targeting like \"%Male%\"\n",
        "  and advertiser_id  in (\n",
        "  'AR488306308034854912',\n",
        "  'AR230475229367894016',\n",
        "  'AR470291909525372928',\n",
        "  'AR105500339708362752',\n",
        "  'AR120847323008860160',\n",
        "  'AR157291735423123456',\n",
        "  'AR194446432348930048',\n",
        "  'AR276637125548441600',\n",
        "  'AR424466463902924800',\n",
        "  'AR89517838687010816',\n",
        "  'AR458000056721604608',\n",
        "  'AR432709227698454528',\n",
        "  'AR101121809528651776',\n",
        "  'AR140403236820484096',\n",
        "  'AR485896728302583808',\n",
        "  'AR329053043867779072',\n",
        "  'AR383080296477622272',\n",
        "  'AR271344076572327936',\n",
        "  'AR492809907662225408',\n",
        "  'AR50710026028843008'\n",
        "  )"
      ],
      "execution_count": 49,
      "outputs": [
        {
          "output_type": "execute_result",
          "data": {
            "text/html": [
              "<div>\n",
              "<style scoped>\n",
              "    .dataframe tbody tr th:only-of-type {\n",
              "        vertical-align: middle;\n",
              "    }\n",
              "\n",
              "    .dataframe tbody tr th {\n",
              "        vertical-align: top;\n",
              "    }\n",
              "\n",
              "    .dataframe thead th {\n",
              "        text-align: right;\n",
              "    }\n",
              "</style>\n",
              "<table border=\"1\" class=\"dataframe\">\n",
              "  <thead>\n",
              "    <tr style=\"text-align: right;\">\n",
              "      <th></th>\n",
              "      <th>number_ads_targeting_males</th>\n",
              "    </tr>\n",
              "  </thead>\n",
              "  <tbody>\n",
              "    <tr>\n",
              "      <th>0</th>\n",
              "      <td>34218</td>\n",
              "    </tr>\n",
              "  </tbody>\n",
              "</table>\n",
              "</div>"
            ],
            "text/plain": [
              "   number_ads_targeting_males\n",
              "0                       34218"
            ]
          },
          "metadata": {
            "tags": []
          },
          "execution_count": 49
        }
      ]
    },
    {
      "cell_type": "code",
      "metadata": {
        "id": "cO3B_E1s77TS",
        "colab_type": "code",
        "outputId": "d935338d-2554-48f0-e60c-a2c510b49211",
        "colab": {
          "base_uri": "https://localhost:8080/",
          "height": 80
        }
      },
      "source": [
        "%%bigquery --project $project_id\n",
        "\n",
        "select\n",
        "  sum(array_length(split(ads_list, \",\"))) as number_ads_targeting_females\n",
        "from\n",
        "  `bigquery-public-data.google_political_ads.campaign_targeting`\n",
        "where\n",
        "  gender_targeting like \"%Female%\"\n",
        "  and advertiser_id  in (\n",
        "  'AR488306308034854912',\n",
        "  'AR230475229367894016',\n",
        "  'AR470291909525372928',\n",
        "  'AR105500339708362752',\n",
        "  'AR120847323008860160',\n",
        "  'AR157291735423123456',\n",
        "  'AR194446432348930048',\n",
        "  'AR276637125548441600',\n",
        "  'AR424466463902924800',\n",
        "  'AR89517838687010816',\n",
        "  'AR458000056721604608',\n",
        "  'AR432709227698454528',\n",
        "  'AR101121809528651776',\n",
        "  'AR140403236820484096',\n",
        "  'AR485896728302583808',\n",
        "  'AR329053043867779072',\n",
        "  'AR383080296477622272',\n",
        "  'AR271344076572327936',\n",
        "  'AR492809907662225408',\n",
        "  'AR50710026028843008'\n",
        "  )\n",
        "\n"
      ],
      "execution_count": 50,
      "outputs": [
        {
          "output_type": "execute_result",
          "data": {
            "text/html": [
              "<div>\n",
              "<style scoped>\n",
              "    .dataframe tbody tr th:only-of-type {\n",
              "        vertical-align: middle;\n",
              "    }\n",
              "\n",
              "    .dataframe tbody tr th {\n",
              "        vertical-align: top;\n",
              "    }\n",
              "\n",
              "    .dataframe thead th {\n",
              "        text-align: right;\n",
              "    }\n",
              "</style>\n",
              "<table border=\"1\" class=\"dataframe\">\n",
              "  <thead>\n",
              "    <tr style=\"text-align: right;\">\n",
              "      <th></th>\n",
              "      <th>number_ads_targeting_females</th>\n",
              "    </tr>\n",
              "  </thead>\n",
              "  <tbody>\n",
              "    <tr>\n",
              "      <th>0</th>\n",
              "      <td>34319</td>\n",
              "    </tr>\n",
              "  </tbody>\n",
              "</table>\n",
              "</div>"
            ],
            "text/plain": [
              "   number_ads_targeting_females\n",
              "0                         34319"
            ]
          },
          "metadata": {
            "tags": []
          },
          "execution_count": 50
        }
      ]
    },
    {
      "cell_type": "markdown",
      "metadata": {
        "id": "4zBZLblOlroE",
        "colab_type": "text"
      },
      "source": [
        "Overall, regardless of party, females are targeted slightly more than males."
      ]
    },
    {
      "cell_type": "markdown",
      "metadata": {
        "id": "J9QxmklCdgO1",
        "colab_type": "text"
      },
      "source": [
        "### 2d: Ad Count by Sex and Age"
      ]
    },
    {
      "cell_type": "markdown",
      "metadata": {
        "id": "yYL-sgvtg4HL",
        "colab_type": "text"
      },
      "source": [
        "male and age group\n"
      ]
    },
    {
      "cell_type": "code",
      "metadata": {
        "id": "TkiG7AV-aLUI",
        "colab_type": "code",
        "outputId": "a2a9426d-4dd5-4491-f538-03150db2e832",
        "colab": {
          "base_uri": "https://localhost:8080/",
          "height": 80
        }
      },
      "source": [
        "%%bigquery --project $project_id\n",
        "select\n",
        "\n",
        "(select\n",
        "  sum(array_length(split(ads_list, \",\"))) as number_ads_targeting_males_ageRange\n",
        "from\n",
        "  `bigquery-public-data.google_political_ads.campaign_targeting`\n",
        "where \n",
        "  age_targeting like \"%18–24%\"\n",
        "  and gender_targeting like \"%Male%\"\n",
        "  and advertiser_id in (\n",
        "  'AR488306308034854912',\n",
        "  'AR230475229367894016',\n",
        "  'AR470291909525372928',\n",
        "  'AR105500339708362752',\n",
        "  'AR120847323008860160',\n",
        "  'AR157291735423123456',\n",
        "  'AR194446432348930048',\n",
        "  'AR276637125548441600',\n",
        "  'AR424466463902924800',\n",
        "  'AR89517838687010816',\n",
        "  'AR458000056721604608',\n",
        "  'AR432709227698454528',\n",
        "  'AR101121809528651776',\n",
        "  'AR140403236820484096',\n",
        "  'AR485896728302583808',\n",
        "  'AR329053043867779072',\n",
        "  'AR383080296477622272',\n",
        "  'AR271344076572327936',\n",
        "  'AR492809907662225408',\n",
        "  'AR50710026028843008'\n",
        "  )\n",
        ") as males18_24,\n",
        "\n",
        "(select\n",
        "  sum(array_length(split(ads_list, \",\")))\n",
        "from\n",
        "  `bigquery-public-data.google_political_ads.campaign_targeting`\n",
        "where \n",
        "  age_targeting like \"%25–34%\"\n",
        "  and gender_targeting like \"%Male%\"\n",
        "  and advertiser_id in (\n",
        "  'AR488306308034854912',\n",
        "  'AR230475229367894016',\n",
        "  'AR470291909525372928',\n",
        "  'AR105500339708362752',\n",
        "  'AR120847323008860160',\n",
        "  'AR157291735423123456',\n",
        "  'AR194446432348930048',\n",
        "  'AR276637125548441600',\n",
        "  'AR424466463902924800',\n",
        "  'AR89517838687010816',\n",
        "  'AR458000056721604608',\n",
        "  'AR432709227698454528',\n",
        "  'AR101121809528651776',\n",
        "  'AR140403236820484096',\n",
        "  'AR485896728302583808',\n",
        "  'AR329053043867779072',\n",
        "  'AR383080296477622272',\n",
        "  'AR271344076572327936',\n",
        "  'AR492809907662225408',\n",
        "  'AR50710026028843008'\n",
        "  )\n",
        ") as males25_34,\n",
        "\n",
        "(select\n",
        "  sum(array_length(split(ads_list, \",\")))\n",
        "from\n",
        "  `bigquery-public-data.google_political_ads.campaign_targeting`\n",
        "where \n",
        "  age_targeting like \"%35–44%\"\n",
        "  and gender_targeting like \"%Male%\"\n",
        "  and advertiser_id in (\n",
        "  'AR488306308034854912',\n",
        "  'AR230475229367894016',\n",
        "  'AR470291909525372928',\n",
        "  'AR105500339708362752',\n",
        "  'AR120847323008860160',\n",
        "  'AR157291735423123456',\n",
        "  'AR194446432348930048',\n",
        "  'AR276637125548441600',\n",
        "  'AR424466463902924800',\n",
        "  'AR89517838687010816',\n",
        "  'AR458000056721604608',\n",
        "  'AR432709227698454528',\n",
        "  'AR101121809528651776',\n",
        "  'AR140403236820484096',\n",
        "  'AR485896728302583808',\n",
        "  'AR329053043867779072',\n",
        "  'AR383080296477622272',\n",
        "  'AR271344076572327936',\n",
        "  'AR492809907662225408',\n",
        "  'AR50710026028843008'\n",
        "  )\n",
        ") as males35_44,\n",
        "\n",
        "(select\n",
        "  sum(array_length(split(ads_list, \",\")))\n",
        "from\n",
        "  `bigquery-public-data.google_political_ads.campaign_targeting`\n",
        "where \n",
        "  age_targeting like \"%45–54%\"\n",
        "  and gender_targeting like \"%Male%\"\n",
        "  and advertiser_id in (\n",
        "  'AR488306308034854912',\n",
        "  'AR230475229367894016',\n",
        "  'AR470291909525372928',\n",
        "  'AR105500339708362752',\n",
        "  'AR120847323008860160',\n",
        "  'AR157291735423123456',\n",
        "  'AR194446432348930048',\n",
        "  'AR276637125548441600',\n",
        "  'AR424466463902924800',\n",
        "  'AR89517838687010816',\n",
        "  'AR458000056721604608',\n",
        "  'AR432709227698454528',\n",
        "  'AR101121809528651776',\n",
        "  'AR140403236820484096',\n",
        "  'AR485896728302583808',\n",
        "  'AR329053043867779072',\n",
        "  'AR383080296477622272',\n",
        "  'AR271344076572327936',\n",
        "  'AR492809907662225408',\n",
        "  'AR50710026028843008'\n",
        "  )\n",
        ") as males45_54,\n",
        "\n",
        "(select\n",
        "  sum(array_length(split(ads_list, \",\")))\n",
        "from\n",
        "  `bigquery-public-data.google_political_ads.campaign_targeting`\n",
        "where \n",
        "  age_targeting like \"%55–64%\"\n",
        "  and gender_targeting like \"%Male%\"\n",
        "  and advertiser_id in (\n",
        "  'AR488306308034854912',\n",
        "  'AR230475229367894016',\n",
        "  'AR470291909525372928',\n",
        "  'AR105500339708362752',\n",
        "  'AR120847323008860160',\n",
        "  'AR157291735423123456',\n",
        "  'AR194446432348930048',\n",
        "  'AR276637125548441600',\n",
        "  'AR424466463902924800',\n",
        "  'AR89517838687010816',\n",
        "  'AR458000056721604608',\n",
        "  'AR432709227698454528',\n",
        "  'AR101121809528651776',\n",
        "  'AR140403236820484096',\n",
        "  'AR485896728302583808',\n",
        "  'AR329053043867779072',\n",
        "  'AR383080296477622272',\n",
        "  'AR271344076572327936',\n",
        "  'AR492809907662225408',\n",
        "  'AR50710026028843008'\n",
        "  )\n",
        ") as males55_64,\n",
        "\n",
        "(select \n",
        "  sum(array_length(split(ads_list, \",\")))\n",
        "from\n",
        "  `bigquery-public-data.google_political_ads.campaign_targeting`\n",
        "where \n",
        "  age_targeting like \"%65%\"\n",
        "  and gender_targeting like \"%Male%\"\n",
        "  and advertiser_id in (\n",
        "  'AR488306308034854912',\n",
        "  'AR230475229367894016',\n",
        "  'AR470291909525372928',\n",
        "  'AR105500339708362752',\n",
        "  'AR120847323008860160',\n",
        "  'AR157291735423123456',\n",
        "  'AR194446432348930048',\n",
        "  'AR276637125548441600',\n",
        "  'AR424466463902924800',\n",
        "  'AR89517838687010816',\n",
        "  'AR458000056721604608',\n",
        "  'AR432709227698454528',\n",
        "  'AR101121809528651776',\n",
        "  'AR140403236820484096',\n",
        "  'AR485896728302583808',\n",
        "  'AR329053043867779072',\n",
        "  'AR383080296477622272',\n",
        "  'AR271344076572327936',\n",
        "  'AR492809907662225408',\n",
        "  'AR50710026028843008'\n",
        "  )\n",
        ") as males65Plus"
      ],
      "execution_count": 51,
      "outputs": [
        {
          "output_type": "execute_result",
          "data": {
            "text/html": [
              "<div>\n",
              "<style scoped>\n",
              "    .dataframe tbody tr th:only-of-type {\n",
              "        vertical-align: middle;\n",
              "    }\n",
              "\n",
              "    .dataframe tbody tr th {\n",
              "        vertical-align: top;\n",
              "    }\n",
              "\n",
              "    .dataframe thead th {\n",
              "        text-align: right;\n",
              "    }\n",
              "</style>\n",
              "<table border=\"1\" class=\"dataframe\">\n",
              "  <thead>\n",
              "    <tr style=\"text-align: right;\">\n",
              "      <th></th>\n",
              "      <th>males18_24</th>\n",
              "      <th>males25_34</th>\n",
              "      <th>males35_44</th>\n",
              "      <th>males45_54</th>\n",
              "      <th>males55_64</th>\n",
              "      <th>males65Plus</th>\n",
              "    </tr>\n",
              "  </thead>\n",
              "  <tbody>\n",
              "    <tr>\n",
              "      <th>0</th>\n",
              "      <td>33820</td>\n",
              "      <td>33824</td>\n",
              "      <td>33907</td>\n",
              "      <td>34075</td>\n",
              "      <td>34052</td>\n",
              "      <td>34059</td>\n",
              "    </tr>\n",
              "  </tbody>\n",
              "</table>\n",
              "</div>"
            ],
            "text/plain": [
              "   males18_24  males25_34  males35_44  males45_54  males55_64  males65Plus\n",
              "0       33820       33824       33907       34075       34052        34059"
            ]
          },
          "metadata": {
            "tags": []
          },
          "execution_count": 51
        }
      ]
    },
    {
      "cell_type": "markdown",
      "metadata": {
        "id": "WpA4hJqWg8jo",
        "colab_type": "text"
      },
      "source": [
        "female and age group"
      ]
    },
    {
      "cell_type": "code",
      "metadata": {
        "id": "UBH0RFZ4aVc3",
        "colab_type": "code",
        "outputId": "a63fea9f-1c30-414d-870a-51cd140f5d01",
        "colab": {
          "base_uri": "https://localhost:8080/",
          "height": 80
        }
      },
      "source": [
        "\n",
        "%%bigquery --project $project_id\n",
        "\n",
        "select\n",
        "\n",
        "(select\n",
        "  sum(array_length(split(ads_list, \",\")))\n",
        "from\n",
        "  `bigquery-public-data.google_political_ads.campaign_targeting`\n",
        "where \n",
        "  age_targeting like \"%18–24%\"\n",
        "  and gender_targeting like \"%Female%\"\n",
        "  and advertiser_id in (\n",
        "  'AR488306308034854912',\n",
        "  'AR230475229367894016',\n",
        "  'AR470291909525372928',\n",
        "  'AR105500339708362752',\n",
        "  'AR120847323008860160',\n",
        "  'AR157291735423123456',\n",
        "  'AR194446432348930048',\n",
        "  'AR276637125548441600',\n",
        "  'AR424466463902924800',\n",
        "  'AR89517838687010816',\n",
        "  'AR458000056721604608',\n",
        "  'AR432709227698454528',\n",
        "  'AR101121809528651776',\n",
        "  'AR140403236820484096',\n",
        "  'AR485896728302583808',\n",
        "  'AR329053043867779072',\n",
        "  'AR383080296477622272',\n",
        "  'AR271344076572327936',\n",
        "  'AR492809907662225408',\n",
        "  'AR50710026028843008'\n",
        "  )\n",
        ") as females18_24,\n",
        "\n",
        "(select\n",
        "  sum(array_length(split(ads_list, \",\")))\n",
        "from\n",
        "  `bigquery-public-data.google_political_ads.campaign_targeting`\n",
        "where \n",
        "  age_targeting like \"%25–34%\"\n",
        "  and gender_targeting like \"%Female%\"\n",
        "  and advertiser_id in (\n",
        "  'AR488306308034854912',\n",
        "  'AR230475229367894016',\n",
        "  'AR470291909525372928',\n",
        "  'AR105500339708362752',\n",
        "  'AR120847323008860160',\n",
        "  'AR157291735423123456',\n",
        "  'AR194446432348930048',\n",
        "  'AR276637125548441600',\n",
        "  'AR424466463902924800',\n",
        "  'AR89517838687010816',\n",
        "  'AR458000056721604608',\n",
        "  'AR432709227698454528',\n",
        "  'AR101121809528651776',\n",
        "  'AR140403236820484096',\n",
        "  'AR485896728302583808',\n",
        "  'AR329053043867779072',\n",
        "  'AR383080296477622272',\n",
        "  'AR271344076572327936',\n",
        "  'AR492809907662225408',\n",
        "  'AR50710026028843008'\n",
        "  )\n",
        ") as females25_34,\n",
        "\n",
        "(select\n",
        "  sum(array_length(split(ads_list, \",\")))\n",
        "from\n",
        "  `bigquery-public-data.google_political_ads.campaign_targeting`\n",
        "where \n",
        "  age_targeting like \"%35–44%\"\n",
        "  and gender_targeting like \"%Female%\"\n",
        "  and advertiser_id in (\n",
        "  'AR488306308034854912',\n",
        "  'AR230475229367894016',\n",
        "  'AR470291909525372928',\n",
        "  'AR105500339708362752',\n",
        "  'AR120847323008860160',\n",
        "  'AR157291735423123456',\n",
        "  'AR194446432348930048',\n",
        "  'AR276637125548441600',\n",
        "  'AR424466463902924800',\n",
        "  'AR89517838687010816',\n",
        "  'AR458000056721604608',\n",
        "  'AR432709227698454528',\n",
        "  'AR101121809528651776',\n",
        "  'AR140403236820484096',\n",
        "  'AR485896728302583808',\n",
        "  'AR329053043867779072',\n",
        "  'AR383080296477622272',\n",
        "  'AR271344076572327936',\n",
        "  'AR492809907662225408',\n",
        "  'AR50710026028843008'\n",
        "  )\n",
        ") as females35_44,\n",
        "\n",
        "(select\n",
        "  sum(array_length(split(ads_list, \",\")))\n",
        "from\n",
        "  `bigquery-public-data.google_political_ads.campaign_targeting`\n",
        "where \n",
        "  age_targeting like \"%45–54%\"\n",
        "  and gender_targeting like \"%Female%\"\n",
        "  and advertiser_id in (\n",
        "  'AR488306308034854912',\n",
        "  'AR230475229367894016',\n",
        "  'AR470291909525372928',\n",
        "  'AR105500339708362752',\n",
        "  'AR120847323008860160',\n",
        "  'AR157291735423123456',\n",
        "  'AR194446432348930048',\n",
        "  'AR276637125548441600',\n",
        "  'AR424466463902924800',\n",
        "  'AR89517838687010816',\n",
        "  'AR458000056721604608',\n",
        "  'AR432709227698454528',\n",
        "  'AR101121809528651776',\n",
        "  'AR140403236820484096',\n",
        "  'AR485896728302583808',\n",
        "  'AR329053043867779072',\n",
        "  'AR383080296477622272',\n",
        "  'AR271344076572327936',\n",
        "  'AR492809907662225408',\n",
        "  'AR50710026028843008'\n",
        "  )\n",
        ") as females45_54,\n",
        "\n",
        "(select\n",
        "  sum(array_length(split(ads_list, \",\")))\n",
        "from\n",
        "  `bigquery-public-data.google_political_ads.campaign_targeting`\n",
        "where \n",
        "  age_targeting like \"%55–64%\"\n",
        "  and gender_targeting like \"%Female%\"\n",
        "  and advertiser_id in (\n",
        "  'AR488306308034854912',\n",
        "  'AR230475229367894016',\n",
        "  'AR470291909525372928',\n",
        "  'AR105500339708362752',\n",
        "  'AR120847323008860160',\n",
        "  'AR157291735423123456',\n",
        "  'AR194446432348930048',\n",
        "  'AR276637125548441600',\n",
        "  'AR424466463902924800',\n",
        "  'AR89517838687010816',\n",
        "  'AR458000056721604608',\n",
        "  'AR432709227698454528',\n",
        "  'AR101121809528651776',\n",
        "  'AR140403236820484096',\n",
        "  'AR485896728302583808',\n",
        "  'AR329053043867779072',\n",
        "  'AR383080296477622272',\n",
        "  'AR271344076572327936',\n",
        "  'AR492809907662225408',\n",
        "  'AR50710026028843008'\n",
        "  )\n",
        ") as females55_64,\n",
        "\n",
        "(select \n",
        "  sum(array_length(split(ads_list, \",\")))\n",
        "from\n",
        "  `bigquery-public-data.google_political_ads.campaign_targeting`\n",
        "where \n",
        "  age_targeting like \"%65%\"\n",
        "  and gender_targeting like \"%Female%\"\n",
        "  and advertiser_id in (\n",
        "  'AR488306308034854912',\n",
        "  'AR230475229367894016',\n",
        "  'AR470291909525372928',\n",
        "  'AR105500339708362752',\n",
        "  'AR120847323008860160',\n",
        "  'AR157291735423123456',\n",
        "  'AR194446432348930048',\n",
        "  'AR276637125548441600',\n",
        "  'AR424466463902924800',\n",
        "  'AR89517838687010816',\n",
        "  'AR458000056721604608',\n",
        "  'AR432709227698454528',\n",
        "  'AR101121809528651776',\n",
        "  'AR140403236820484096',\n",
        "  'AR485896728302583808',\n",
        "  'AR329053043867779072',\n",
        "  'AR383080296477622272',\n",
        "  'AR271344076572327936',\n",
        "  'AR492809907662225408',\n",
        "  'AR50710026028843008'\n",
        "  )\n",
        ") as females65Plus"
      ],
      "execution_count": 52,
      "outputs": [
        {
          "output_type": "execute_result",
          "data": {
            "text/html": [
              "<div>\n",
              "<style scoped>\n",
              "    .dataframe tbody tr th:only-of-type {\n",
              "        vertical-align: middle;\n",
              "    }\n",
              "\n",
              "    .dataframe tbody tr th {\n",
              "        vertical-align: top;\n",
              "    }\n",
              "\n",
              "    .dataframe thead th {\n",
              "        text-align: right;\n",
              "    }\n",
              "</style>\n",
              "<table border=\"1\" class=\"dataframe\">\n",
              "  <thead>\n",
              "    <tr style=\"text-align: right;\">\n",
              "      <th></th>\n",
              "      <th>females18_24</th>\n",
              "      <th>females25_34</th>\n",
              "      <th>females35_44</th>\n",
              "      <th>females45_54</th>\n",
              "      <th>females55_64</th>\n",
              "      <th>females65Plus</th>\n",
              "    </tr>\n",
              "  </thead>\n",
              "  <tbody>\n",
              "    <tr>\n",
              "      <th>0</th>\n",
              "      <td>33835</td>\n",
              "      <td>33846</td>\n",
              "      <td>33943</td>\n",
              "      <td>34137</td>\n",
              "      <td>34114</td>\n",
              "      <td>34121</td>\n",
              "    </tr>\n",
              "  </tbody>\n",
              "</table>\n",
              "</div>"
            ],
            "text/plain": [
              "   females18_24  females25_34  ...  females55_64  females65Plus\n",
              "0         33835         33846  ...         34114          34121\n",
              "\n",
              "[1 rows x 6 columns]"
            ]
          },
          "metadata": {
            "tags": []
          },
          "execution_count": 52
        }
      ]
    },
    {
      "cell_type": "code",
      "metadata": {
        "id": "-2SjhHqUzWd5",
        "colab_type": "code",
        "outputId": "85c15776-eac1-42ce-db0f-e184317316f1",
        "colab": {
          "base_uri": "https://localhost:8080/",
          "height": 279
        }
      },
      "source": [
        "# male = (33820\t33824\t33907\t34075\t34052\t34059)\n",
        "# female = (33835\t33846\t33943\t34137\t34114\t34121)\n",
        "maleFemaleCombined = ((33820, 33835), (33824, 33846), (33907, 33943), (34075, 34137), (34052, 34114), (34059, 34121))\n",
        "dim = len(maleFemaleCombined)\n",
        "w = 2\n",
        "dimw = w / dim\n",
        "\n",
        "fig, ax = plt.subplots()\n",
        "x = np.arange(len(maleFemaleCombined))\n",
        "for i in range(len(maleFemaleCombined[0])):\n",
        "    # light blue and pink\n",
        "    color = 'xkcd:light blue' if i == 0 else 'xkcd:light pink'\n",
        "    y = [d[i] for d in maleFemaleCombined]\n",
        "    b = ax.bar(x + i * dimw, y, dimw, bottom=0.001, color = color)\n",
        "\n",
        "ax.set_xticks(x + dimw / 2, map(str, x))\n",
        "# ax.set_yscale('log')\n",
        "\n",
        "ax.set_xlabel('x')\n",
        "ax.set_ylabel('y')\n",
        "\n",
        "plt.show()"
      ],
      "execution_count": 54,
      "outputs": [
        {
          "output_type": "display_data",
          "data": {
            "image/png": "[encoded data removed]",
            "text/plain": [
              "<Figure size 432x288 with 1 Axes>"
            ]
          },
          "metadata": {
            "tags": []
          }
        }
      ]
    },
    {
      "cell_type": "markdown",
      "metadata": {
        "id": "3qkgkq_eFYtO",
        "colab_type": "text"
      },
      "source": [
        "Disregarding party, both sexes at any given age are targeted with relatively minor differences, whereas age playing a slightly larger role."
      ]
    },
    {
      "cell_type": "markdown",
      "metadata": {
        "id": "WL0-95zAxbPX",
        "colab_type": "text"
      },
      "source": [
        "### 2e: Ad Count by Age and Party"
      ]
    },
    {
      "cell_type": "code",
      "metadata": {
        "id": "o9pi2hQSx-vb",
        "colab_type": "code",
        "outputId": "ab8338d1-35a8-4624-b30b-f0cca69974a7",
        "colab": {
          "base_uri": "https://localhost:8080/",
          "height": 80
        }
      },
      "source": [
        "# republicans\n",
        "%%bigquery --project $project_id\n",
        "\n",
        "select\n",
        "  (\n",
        "  select\n",
        "    sum(array_length(split(ads_list, \",\"))) as number_ads_targeting_ageRange\n",
        "  from\n",
        "    `bigquery-public-data.google_political_ads.campaign_targeting`\n",
        "  where \n",
        "    age_targeting like \"%18–24%\"\n",
        "    and advertiser_id in (\n",
        "    'AR488306308034854912',\n",
        "    'AR230475229367894016',\n",
        "    'AR470291909525372928',\n",
        "    'AR105500339708362752',\n",
        "    'AR120847323008860160',\n",
        "    'AR157291735423123456',\n",
        "    'AR194446432348930048',\n",
        "    'AR276637125548441600',\n",
        "    'AR424466463902924800',\n",
        "    'AR89517838687010816') \n",
        "  ) as ages18To24_Republicans,\n",
        "\n",
        "  (\n",
        "  select\n",
        "    sum(array_length(split(ads_list, \",\")))\n",
        "  from\n",
        "    `bigquery-public-data.google_political_ads.campaign_targeting`\n",
        "  where \n",
        "    age_targeting like \"%25–34%\"\n",
        "    and advertiser_id in (\n",
        "    'AR488306308034854912',\n",
        "    'AR230475229367894016',\n",
        "    'AR470291909525372928',\n",
        "    'AR105500339708362752',\n",
        "    'AR120847323008860160',\n",
        "    'AR157291735423123456',\n",
        "    'AR194446432348930048',\n",
        "    'AR276637125548441600',\n",
        "    'AR424466463902924800',\n",
        "    'AR89517838687010816') \n",
        "  ) as ages25To34_R,\n",
        "  (\n",
        "  select\n",
        "    sum(array_length(split(ads_list, \",\")))\n",
        "  from\n",
        "    `bigquery-public-data.google_political_ads.campaign_targeting`\n",
        "  where \n",
        "    age_targeting like \"%35–44%\"\n",
        "    and advertiser_id in (\n",
        "    'AR488306308034854912',\n",
        "    'AR230475229367894016',\n",
        "    'AR470291909525372928',\n",
        "    'AR105500339708362752',\n",
        "    'AR120847323008860160',\n",
        "    'AR157291735423123456',\n",
        "    'AR194446432348930048',\n",
        "    'AR276637125548441600',\n",
        "    'AR424466463902924800',\n",
        "    'AR89517838687010816')  \n",
        "  ) as ages34To44_R,\n",
        "\n",
        "  (select\n",
        "    sum(array_length(split(ads_list, \",\")))\n",
        "  from\n",
        "    `bigquery-public-data.google_political_ads.campaign_targeting`\n",
        "  where \n",
        "    age_targeting like \"%45–54%\"\n",
        "    and advertiser_id in (\n",
        "    'AR488306308034854912',\n",
        "    'AR230475229367894016',\n",
        "    'AR470291909525372928',\n",
        "    'AR105500339708362752',\n",
        "    'AR120847323008860160',\n",
        "    'AR157291735423123456',\n",
        "    'AR194446432348930048',\n",
        "    'AR276637125548441600',\n",
        "    'AR424466463902924800',\n",
        "    'AR89517838687010816') \n",
        "  ) as ages45To54_R,\n",
        "\n",
        "  (select\n",
        "    sum(array_length(split(ads_list, \",\")))\n",
        "  from\n",
        "    `bigquery-public-data.google_political_ads.campaign_targeting`\n",
        "  where \n",
        "    age_targeting like \"%55–64%\"\n",
        "    and advertiser_id in (\n",
        "    'AR488306308034854912',\n",
        "    'AR230475229367894016',\n",
        "    'AR470291909525372928',\n",
        "    'AR105500339708362752',\n",
        "    'AR120847323008860160',\n",
        "    'AR157291735423123456',\n",
        "    'AR194446432348930048',\n",
        "    'AR276637125548441600',\n",
        "    'AR424466463902924800',\n",
        "    'AR89517838687010816') \n",
        "  ) as ages55To64_R,\n",
        "\n",
        "  (select \n",
        "    sum(array_length(split(ads_list, \",\")))\n",
        "  from\n",
        "    `bigquery-public-data.google_political_ads.campaign_targeting`\n",
        "  where \n",
        "    age_targeting like \"%65%\"\n",
        "    and advertiser_id in (\n",
        "    'AR488306308034854912',\n",
        "    'AR230475229367894016',\n",
        "    'AR470291909525372928',\n",
        "    'AR105500339708362752',\n",
        "    'AR120847323008860160',\n",
        "    'AR157291735423123456',\n",
        "    'AR194446432348930048',\n",
        "    'AR276637125548441600',\n",
        "    'AR424466463902924800',\n",
        "    'AR89517838687010816') \n",
        "  ) as ages65Plus_R\n"
      ],
      "execution_count": 55,
      "outputs": [
        {
          "output_type": "execute_result",
          "data": {
            "text/html": [
              "<div>\n",
              "<style scoped>\n",
              "    .dataframe tbody tr th:only-of-type {\n",
              "        vertical-align: middle;\n",
              "    }\n",
              "\n",
              "    .dataframe tbody tr th {\n",
              "        vertical-align: top;\n",
              "    }\n",
              "\n",
              "    .dataframe thead th {\n",
              "        text-align: right;\n",
              "    }\n",
              "</style>\n",
              "<table border=\"1\" class=\"dataframe\">\n",
              "  <thead>\n",
              "    <tr style=\"text-align: right;\">\n",
              "      <th></th>\n",
              "      <th>ages18To24_Republicans</th>\n",
              "      <th>ages25To34_R</th>\n",
              "      <th>ages34To44_R</th>\n",
              "      <th>ages45To54_R</th>\n",
              "      <th>ages55To64_R</th>\n",
              "      <th>ages65Plus_R</th>\n",
              "    </tr>\n",
              "  </thead>\n",
              "  <tbody>\n",
              "    <tr>\n",
              "      <th>0</th>\n",
              "      <td>38477</td>\n",
              "      <td>38561</td>\n",
              "      <td>39084</td>\n",
              "      <td>39191</td>\n",
              "      <td>39370</td>\n",
              "      <td>39408</td>\n",
              "    </tr>\n",
              "  </tbody>\n",
              "</table>\n",
              "</div>"
            ],
            "text/plain": [
              "   ages18To24_Republicans  ages25To34_R  ...  ages55To64_R  ages65Plus_R\n",
              "0                   38477         38561  ...         39370         39408\n",
              "\n",
              "[1 rows x 6 columns]"
            ]
          },
          "metadata": {
            "tags": []
          },
          "execution_count": 55
        }
      ]
    },
    {
      "cell_type": "code",
      "metadata": {
        "id": "DnVGAms_4OVY",
        "colab_type": "code",
        "outputId": "96f68373-3972-4159-e80d-c40b277c2718",
        "colab": {
          "base_uri": "https://localhost:8080/",
          "height": 80
        }
      },
      "source": [
        "# democrats\n",
        "%%bigquery --project $project_id\n",
        "\n",
        "select\n",
        "  (\n",
        "  select\n",
        "    sum(array_length(split(ads_list, \",\"))) as number_ads_targeting_ageRange\n",
        "  from\n",
        "    `bigquery-public-data.google_political_ads.campaign_targeting`\n",
        "  where \n",
        "    age_targeting like \"%18–24%\"\n",
        "    and advertiser_id in (\n",
        "    'AR458000056721604608',\n",
        "    'AR432709227698454528',\n",
        "    'AR101121809528651776',\n",
        "    'AR140403236820484096',\n",
        "    'AR485896728302583808',\n",
        "    'AR329053043867779072',\n",
        "    'AR383080296477622272',\n",
        "    'AR271344076572327936',\n",
        "    'AR492809907662225408',\n",
        "    'AR50710026028843008'\n",
        "    ) \n",
        "  ) as ages18To24_Democrats,\n",
        "\n",
        "  (\n",
        "  select\n",
        "    sum(array_length(split(ads_list, \",\")))\n",
        "  from\n",
        "    `bigquery-public-data.google_political_ads.campaign_targeting`\n",
        "  where \n",
        "    age_targeting like \"%25–34%\"\n",
        "    and advertiser_id in (\n",
        "    'AR458000056721604608',\n",
        "    'AR432709227698454528',\n",
        "    'AR101121809528651776',\n",
        "    'AR140403236820484096',\n",
        "    'AR485896728302583808',\n",
        "    'AR329053043867779072',\n",
        "    'AR383080296477622272',\n",
        "    'AR271344076572327936',\n",
        "    'AR492809907662225408',\n",
        "    'AR50710026028843008'\n",
        "    )\n",
        "  ) as ages25To34_D,\n",
        "  (\n",
        "  select\n",
        "    sum(array_length(split(ads_list, \",\")))\n",
        "  from\n",
        "    `bigquery-public-data.google_political_ads.campaign_targeting`\n",
        "  where \n",
        "    age_targeting like \"%35–44%\"\n",
        "    and advertiser_id in (\n",
        "    'AR458000056721604608',\n",
        "    'AR432709227698454528',\n",
        "    'AR101121809528651776',\n",
        "    'AR140403236820484096',\n",
        "    'AR485896728302583808',\n",
        "    'AR329053043867779072',\n",
        "    'AR383080296477622272',\n",
        "    'AR271344076572327936',\n",
        "    'AR492809907662225408',\n",
        "    'AR50710026028843008'\n",
        "    )\n",
        "  ) as ages34To44_D,\n",
        "\n",
        "  (select\n",
        "    sum(array_length(split(ads_list, \",\")))\n",
        "  from\n",
        "    `bigquery-public-data.google_political_ads.campaign_targeting`\n",
        "  where \n",
        "    age_targeting like \"%45–54%\"\n",
        "    and advertiser_id in (\n",
        "    'AR458000056721604608',\n",
        "    'AR432709227698454528',\n",
        "    'AR101121809528651776',\n",
        "    'AR140403236820484096',\n",
        "    'AR485896728302583808',\n",
        "    'AR329053043867779072',\n",
        "    'AR383080296477622272',\n",
        "    'AR271344076572327936',\n",
        "    'AR492809907662225408',\n",
        "    'AR50710026028843008'\n",
        "    )\n",
        "  ) as ages45To54_D,\n",
        "\n",
        "  (select\n",
        "    sum(array_length(split(ads_list, \",\")))\n",
        "  from\n",
        "    `bigquery-public-data.google_political_ads.campaign_targeting`\n",
        "  where \n",
        "    age_targeting like \"%55–64%\"\n",
        "    and advertiser_id in (\n",
        "    'AR458000056721604608',\n",
        "    'AR432709227698454528',\n",
        "    'AR101121809528651776',\n",
        "    'AR140403236820484096',\n",
        "    'AR485896728302583808',\n",
        "    'AR329053043867779072',\n",
        "    'AR383080296477622272',\n",
        "    'AR271344076572327936',\n",
        "    'AR492809907662225408',\n",
        "    'AR50710026028843008'\n",
        "    )\n",
        "  ) as ages55To64_D,\n",
        "\n",
        "  (select \n",
        "    sum(array_length(split(ads_list, \",\")))\n",
        "  from\n",
        "    `bigquery-public-data.google_political_ads.campaign_targeting`\n",
        "  where \n",
        "    age_targeting like \"%65%\"\n",
        "    and advertiser_id in (\n",
        "    'AR458000056721604608',\n",
        "    'AR432709227698454528',\n",
        "    'AR101121809528651776',\n",
        "    'AR140403236820484096',\n",
        "    'AR485896728302583808',\n",
        "    'AR329053043867779072',\n",
        "    'AR383080296477622272',\n",
        "    'AR271344076572327936',\n",
        "    'AR492809907662225408',\n",
        "    'AR50710026028843008'\n",
        "    )\n",
        "  ) as ages65Plus_D\n",
        "\n"
      ],
      "execution_count": 56,
      "outputs": [
        {
          "output_type": "execute_result",
          "data": {
            "text/html": [
              "<div>\n",
              "<style scoped>\n",
              "    .dataframe tbody tr th:only-of-type {\n",
              "        vertical-align: middle;\n",
              "    }\n",
              "\n",
              "    .dataframe tbody tr th {\n",
              "        vertical-align: top;\n",
              "    }\n",
              "\n",
              "    .dataframe thead th {\n",
              "        text-align: right;\n",
              "    }\n",
              "</style>\n",
              "<table border=\"1\" class=\"dataframe\">\n",
              "  <thead>\n",
              "    <tr style=\"text-align: right;\">\n",
              "      <th></th>\n",
              "      <th>ages18To24_Democrats</th>\n",
              "      <th>ages25To34_D</th>\n",
              "      <th>ages34To44_D</th>\n",
              "      <th>ages45To54_D</th>\n",
              "      <th>ages55To64_D</th>\n",
              "      <th>ages65Plus_D</th>\n",
              "    </tr>\n",
              "  </thead>\n",
              "  <tbody>\n",
              "    <tr>\n",
              "      <th>0</th>\n",
              "      <td>2653</td>\n",
              "      <td>2653</td>\n",
              "      <td>2682</td>\n",
              "      <td>2807</td>\n",
              "      <td>2781</td>\n",
              "      <td>2771</td>\n",
              "    </tr>\n",
              "  </tbody>\n",
              "</table>\n",
              "</div>"
            ],
            "text/plain": [
              "   ages18To24_Democrats  ages25To34_D  ...  ages55To64_D  ages65Plus_D\n",
              "0                  2653          2653  ...          2781          2771\n",
              "\n",
              "[1 rows x 6 columns]"
            ]
          },
          "metadata": {
            "tags": []
          },
          "execution_count": 56
        }
      ]
    },
    {
      "cell_type": "code",
      "metadata": {
        "id": "_mfDP15Q4q-l",
        "colab_type": "code",
        "outputId": "f4467c47-7224-465a-d349-164cb2f01356",
        "colab": {
          "base_uri": "https://localhost:8080/",
          "height": 279
        }
      },
      "source": [
        "# rep = 38477\t38561\t39084\t39191\t39370\t39408\n",
        "# dem = 2653\t2653\t2682\t2807\t2781\t2771\n",
        "combined = ((38477, 2653), (38561, 2653), (39084, 2682), (39191, 2807), (39370, 2781), (39408, 2771))\n",
        "dim = len(combined)\n",
        "w = 2\n",
        "dimw = w / dim\n",
        "\n",
        "fig, ax = plt.subplots()\n",
        "x = np.arange(len(combined))\n",
        "for i in range(len(combined[0])):\n",
        "    color = 'xkcd:red' if i == 0 else 'xkcd:blue'\n",
        "\n",
        "    y = [d[i] for d in combined]\n",
        "    b = ax.bar(x + i * dimw, y, dimw, bottom=0.001, color=color)\n",
        "\n",
        "ax.set_xticks(x + dimw / 2, map(str, x))\n",
        "\n",
        "ax.set_xlabel('x')\n",
        "ax.set_ylabel('y')\n",
        "\n",
        "plt.show()"
      ],
      "execution_count": 57,
      "outputs": [
        {
          "output_type": "display_data",
          "data": {
            "image/png": "[encoded data removed]",
            "text/plain": [
              "<Figure size 432x288 with 1 Axes>"
            ]
          },
          "metadata": {
            "tags": []
          }
        }
      ]
    },
    {
      "cell_type": "markdown",
      "metadata": {
        "id": "lenqRnfK7duG",
        "colab_type": "text"
      },
      "source": [
        "This discrepancy in ad counts for age targeting of groups between Republicans and Democrats is orders larger than the difference in overall ad counts seen previously. There are several possible explanations for this. Two, which lead to different conclusions: include:\n",
        "1. The `age_targeting` for Democrats is left as \"Not targeted\".\n",
        "2. Democrats, instead of selecting multiple age categories for each ad, select only one precise range, so Republicans can quadruple count each ad as it appears to multiple age groups.\n",
        "\n",
        "Regardless, this does not change the overall stats of who is proportionally targeted by each party. To better see these differences in targeting, let's scale this by normalizing the total number of ads across parties."
      ]
    },
    {
      "cell_type": "code",
      "metadata": {
        "id": "_5rhgiF87xn6",
        "colab_type": "code",
        "outputId": "bca937a1-ad92-4f25-f770-20ad98489c18",
        "colab": {
          "base_uri": "https://localhost:8080/",
          "height": 290
        }
      },
      "source": [
        "rep = (38477,\t38561,\t39084,\t39191,\t39370,\t39408)\n",
        "dem = (2653,\t2653,\t2682,\t2807,\t2781,\t2771)\n",
        "combinedRD = ((38477, 2653), (38561, 2653), (39084, 2682), (39191, 2807), (39370, 2781), (39408, 2771))\n",
        "\n",
        "dim = len(combinedRD)\n",
        "w = 2\n",
        "dimw = w / dim\n",
        "\n",
        "fig, ax = plt.subplots()\n",
        "x = np.arange(len(combinedRD))\n",
        "for i in range(len(combinedRD[0])):\n",
        "    if i == 0:\n",
        "      y = [d[i] * sum(dem) for d in combinedRD]\n",
        "    else:\n",
        "      y = [d[i] * sum(rep) for d in combinedRD]\n",
        "    color = 'xkcd:red' if i == 0 else 'xkcd:blue'\n",
        "    b = ax.bar(x + i * dimw, y, dimw, bottom=0.001, color=color)\n",
        "\n",
        "ax.set_xticks(x + dimw / 2, map(str, x))\n",
        "\n",
        "ax.set_xlabel('age groups')\n",
        "ax.set_ylabel('scaled ad counts')\n",
        "\n",
        "plt.show()"
      ],
      "execution_count": 59,
      "outputs": [
        {
          "output_type": "display_data",
          "data": {
            "image/png": "[encoded data removed]",
            "text/plain": [
              "<Figure size 432x288 with 1 Axes>"
            ]
          },
          "metadata": {
            "tags": []
          }
        }
      ]
    },
    {
      "cell_type": "markdown",
      "metadata": {
        "id": "trKhjWCp9vcW",
        "colab_type": "text"
      },
      "source": [
        "With this normalization, we can see that while Republicans roughly target all ages equally, Democrats target groups above 35 more than those under 35. "
      ]
    },
    {
      "cell_type": "markdown",
      "metadata": {
        "id": "lMuXiyldx2yq",
        "colab_type": "text"
      },
      "source": [
        "### 2f. Ad Count by Sex and Party"
      ]
    },
    {
      "cell_type": "code",
      "metadata": {
        "id": "Lc70xlqQx8kS",
        "colab_type": "code",
        "outputId": "37317002-f918-4e49-98c8-3ab6dba6ffb0",
        "colab": {
          "base_uri": "https://localhost:8080/",
          "height": 80
        }
      },
      "source": [
        "%%bigquery --project $project_id\n",
        "\n",
        "\n",
        "select\n",
        "\n",
        "(select\n",
        "  sum(array_length(split(ads_list, \",\")))\n",
        "from\n",
        "  `bigquery-public-data.google_political_ads.campaign_targeting`\n",
        "where\n",
        "  gender_targeting like \"%Male%\"\n",
        "  and advertiser_id in (\n",
        "  'AR488306308034854912',\n",
        "  'AR230475229367894016',\n",
        "  'AR470291909525372928',\n",
        "  'AR105500339708362752',\n",
        "  'AR120847323008860160',\n",
        "  'AR157291735423123456',\n",
        "  'AR194446432348930048',\n",
        "  'AR276637125548441600',\n",
        "  'AR424466463902924800',\n",
        "  'AR89517838687010816')) as maleRep,\n",
        "  \n",
        "(select\n",
        "  sum(array_length(split(ads_list, \",\")))\n",
        "from\n",
        "  `bigquery-public-data.google_political_ads.campaign_targeting`\n",
        "where\n",
        "  gender_targeting like \"%Female%\"\n",
        "  and advertiser_id in (\n",
        "  'AR488306308034854912',\n",
        "  'AR230475229367894016',\n",
        "  'AR470291909525372928',\n",
        "  'AR105500339708362752',\n",
        "  'AR120847323008860160',\n",
        "  'AR157291735423123456',\n",
        "  'AR194446432348930048',\n",
        "  'AR276637125548441600',\n",
        "  'AR424466463902924800',\n",
        "  'AR89517838687010816')) as femaleRep,\n",
        "  \n",
        "(select\n",
        "  sum(array_length(split(ads_list, \",\")))\n",
        "from\n",
        "  `bigquery-public-data.google_political_ads.campaign_targeting`\n",
        "where\n",
        "  gender_targeting like \"%Male%\"\n",
        "  and advertiser_id in (\n",
        "  'AR458000056721604608',\n",
        "  'AR432709227698454528',\n",
        "  'AR101121809528651776',\n",
        "  'AR140403236820484096',\n",
        "  'AR485896728302583808',\n",
        "  'AR329053043867779072',\n",
        "  'AR383080296477622272',\n",
        "  'AR271344076572327936',\n",
        "  'AR492809907662225408',\n",
        "  'AR50710026028843008')) as maleDem,\n",
        "  \n",
        "(select\n",
        "  sum(array_length(split(ads_list, \",\")))\n",
        "from\n",
        "  `bigquery-public-data.google_political_ads.campaign_targeting`\n",
        "where\n",
        "  gender_targeting like \"%Female%\"\n",
        "  and advertiser_id in (\n",
        "  'AR458000056721604608',\n",
        "  'AR432709227698454528',\n",
        "  'AR101121809528651776',\n",
        "  'AR140403236820484096',\n",
        "  'AR485896728302583808',\n",
        "  'AR329053043867779072',\n",
        "  'AR383080296477622272',\n",
        "  'AR271344076572327936',\n",
        "  'AR492809907662225408',\n",
        "  'AR50710026028843008')) as femaleDem\n",
        "  \n",
        "  \n",
        "  \n",
        "  "
      ],
      "execution_count": 60,
      "outputs": [
        {
          "output_type": "execute_result",
          "data": {
            "text/html": [
              "<div>\n",
              "<style scoped>\n",
              "    .dataframe tbody tr th:only-of-type {\n",
              "        vertical-align: middle;\n",
              "    }\n",
              "\n",
              "    .dataframe tbody tr th {\n",
              "        vertical-align: top;\n",
              "    }\n",
              "\n",
              "    .dataframe thead th {\n",
              "        text-align: right;\n",
              "    }\n",
              "</style>\n",
              "<table border=\"1\" class=\"dataframe\">\n",
              "  <thead>\n",
              "    <tr style=\"text-align: right;\">\n",
              "      <th></th>\n",
              "      <th>maleRep</th>\n",
              "      <th>femaleRep</th>\n",
              "      <th>maleDem</th>\n",
              "      <th>femaleDem</th>\n",
              "    </tr>\n",
              "  </thead>\n",
              "  <tbody>\n",
              "    <tr>\n",
              "      <th>0</th>\n",
              "      <td>31739</td>\n",
              "      <td>31758</td>\n",
              "      <td>2479</td>\n",
              "      <td>2561</td>\n",
              "    </tr>\n",
              "  </tbody>\n",
              "</table>\n",
              "</div>"
            ],
            "text/plain": [
              "   maleRep  femaleRep  maleDem  femaleDem\n",
              "0    31739      31758     2479       2561"
            ]
          },
          "metadata": {
            "tags": []
          },
          "execution_count": 60
        }
      ]
    },
    {
      "cell_type": "code",
      "metadata": {
        "id": "bdNqiKtl_Udx",
        "colab_type": "code",
        "outputId": "6cceda59-65a6-42c9-ba63-8e61c9050a70",
        "colab": {
          "base_uri": "https://localhost:8080/",
          "height": 290
        }
      },
      "source": [
        "rep = (31739,\t31758)\n",
        "dem = (2479,\t2561)\n",
        "\n",
        "combinedReDe = ((31739, 2479), (31758, 2561))\n",
        "\n",
        "dim = len(combined)\n",
        "w = 2\n",
        "dimw = w / dim\n",
        "\n",
        "fig, ax = plt.subplots()\n",
        "x = np.arange(len(combinedReDe))\n",
        "for i in range(len(combinedReDe[0])):\n",
        "    color = 'xkcd:red' if i == 0 else 'xkcd:blue'\n",
        "    if i == 0:\n",
        "      y = [d[i] * sum(dem) for d in combinedReDe]\n",
        "    else:\n",
        "      y = [d[i] * sum(rep) for d in combinedReDe]\n",
        "    b = ax.bar(x + i * dimw, y, dimw, bottom=0.001, color=color)\n",
        "\n",
        "ax.set_xticks(x + dimw / 2, map(str, x))\n",
        "\n",
        "ax.set_xlabel('left: males(R,D), right: females: (R,D)')\n",
        "ax.set_ylabel('ad counts')\n",
        "\n",
        "plt.show()"
      ],
      "execution_count": 62,
      "outputs": [
        {
          "output_type": "display_data",
          "data": {
            "image/png": "[encoded data removed]",
            "text/plain": [
              "<Figure size 432x288 with 1 Axes>"
            ]
          },
          "metadata": {
            "tags": []
          }
        }
      ]
    },
    {
      "cell_type": "markdown",
      "metadata": {
        "id": "Id1IjIDnAwSd",
        "colab_type": "text"
      },
      "source": [
        "The Republican party's ads target males slightly more than Democrats do, and the Democrats' target females slightly more than Reublicans do. "
      ]
    },
    {
      "cell_type": "markdown",
      "metadata": {
        "id": "NhFSJifsiC1U",
        "colab_type": "text"
      },
      "source": [
        "## Data Prediction"
      ]
    },
    {
      "cell_type": "markdown",
      "metadata": {
        "id": "ofeY7XQuyhOU",
        "colab_type": "text"
      },
      "source": [
        "---\n",
        "\n",
        "Given an ad campaign with demographic targeting data, predict/classify the party responsible for ad.\n",
        "\n",
        "For this, we use the `campaign_targeting` dataset, with the `age_targeting`, `gender_targeting`, `geo_targeting_included` and `geo_targeting_excluded` fields as features. We limit the dataset to know, classified political parties (as previously, the top 5 for each). This is further divided into train, eval, and prediction sets by `campaign_id`'s last digit, which is a way to randomly but consistently divide. Specifically, train where `campaign_id` ends in 1, 2, 3, 4, 5, 6, eval where `campaign_id` ends in 7, 8, and \n",
        "predict where `campaign_id` ends in 9, 0.\n",
        "\n",
        "---"
      ]
    },
    {
      "cell_type": "markdown",
      "metadata": {
        "id": "0g4HDYFldzVm",
        "colab_type": "text"
      },
      "source": [
        "### Set up Dataset"
      ]
    },
    {
      "cell_type": "code",
      "metadata": {
        "id": "1UDp_-v0QIzq",
        "colab_type": "code",
        "colab": {
          "base_uri": "https://localhost:8080/",
          "height": 34
        },
        "outputId": "a469fed4-a913-4f59-d977-c1cf2fed3524"
      },
      "source": [
        "model_dataset_name = 'party_predictor'\n",
        "\n",
        "dataset = bigquery.Dataset(client.dataset(model_dataset_name))\n",
        "dataset.location = 'US'\n",
        "client.create_dataset(dataset)"
      ],
      "execution_count": 6,
      "outputs": [
        {
          "output_type": "execute_result",
          "data": {
            "text/plain": [
              "Dataset(DatasetReference('cs145-p3-actual', 'party_predictor'))"
            ]
          },
          "metadata": {
            "tags": []
          },
          "execution_count": 6
        }
      ]
    },
    {
      "cell_type": "markdown",
      "metadata": {
        "id": "O5PyTHy-F9KB",
        "colab_type": "text"
      },
      "source": [
        "### Model 1\n",
        "First, let's try a model predicting political party based just off gender and age."
      ]
    },
    {
      "cell_type": "code",
      "metadata": {
        "id": "2BjIkU-mGObc",
        "colab_type": "code",
        "colab": {
          "base_uri": "https://localhost:8080/",
          "height": 32
        },
        "outputId": "591138d6-ed6b-4c03-faa2-0ca9e5317bec"
      },
      "source": [
        "# 0 if dem, 1 if rep\n",
        "\n",
        "%%bigquery --project $project_id\n",
        "\n",
        "CREATE OR REPLACE MODEL `party_predictor.pa_pr_model_1`\n",
        "OPTIONS(model_type='logistic_reg') AS\n",
        "\n",
        "select \n",
        "  age_targeting,\n",
        "  gender_targeting,\n",
        "\n",
        "  if (advertiser_id in (\n",
        "  'AR488306308034854912',\n",
        "  'AR230475229367894016',\n",
        "  'AR470291909525372928',\n",
        "  'AR105500339708362752',\n",
        "  'AR120847323008860160',\n",
        "  'AR157291735423123456',\n",
        "  'AR194446432348930048',\n",
        "  'AR276637125548441600',\n",
        "  'AR424466463902924800',\n",
        "  'AR89517838687010816'), 1, 0) as label\n",
        "\n",
        "from \n",
        "`bigquery-public-data.google_political_ads.campaign_targeting`\n",
        "\n",
        "where\n",
        "  (advertiser_id in (\n",
        "  'AR488306308034854912',\n",
        "  'AR230475229367894016',\n",
        "  'AR470291909525372928',\n",
        "  'AR105500339708362752',\n",
        "  'AR120847323008860160',\n",
        "  'AR157291735423123456',\n",
        "  'AR194446432348930048',\n",
        "  'AR276637125548441600',\n",
        "  'AR424466463902924800',\n",
        "  'AR89517838687010816',\n",
        "  'AR458000056721604608',\n",
        "  'AR432709227698454528',\n",
        "  'AR101121809528651776',\n",
        "  'AR140403236820484096',\n",
        "  'AR485896728302583808',\n",
        "  'AR329053043867779072',\n",
        "  'AR383080296477622272',\n",
        "  'AR271344076572327936',\n",
        "  'AR492809907662225408',\n",
        "  'AR50710026028843008'\n",
        "  )) and (\n",
        "  campaign_id like \"%1\"\n",
        "  or campaign_id like \"%2\"\n",
        "  or campaign_id like \"%3\"\n",
        "  or campaign_id like \"%4\"\n",
        "  or campaign_id like \"%5\"\n",
        "  or campaign_id like \"%6\"\n",
        "  )\n"
      ],
      "execution_count": 69,
      "outputs": [
        {
          "output_type": "execute_result",
          "data": {
            "text/html": [
              "<div>\n",
              "<style scoped>\n",
              "    .dataframe tbody tr th:only-of-type {\n",
              "        vertical-align: middle;\n",
              "    }\n",
              "\n",
              "    .dataframe tbody tr th {\n",
              "        vertical-align: top;\n",
              "    }\n",
              "\n",
              "    .dataframe thead th {\n",
              "        text-align: right;\n",
              "    }\n",
              "</style>\n",
              "<table border=\"1\" class=\"dataframe\">\n",
              "  <thead>\n",
              "    <tr style=\"text-align: right;\">\n",
              "      <th></th>\n",
              "    </tr>\n",
              "  </thead>\n",
              "  <tbody>\n",
              "  </tbody>\n",
              "</table>\n",
              "</div>"
            ],
            "text/plain": [
              "Empty DataFrame\n",
              "Columns: []\n",
              "Index: []"
            ]
          },
          "metadata": {
            "tags": []
          },
          "execution_count": 69
        }
      ]
    },
    {
      "cell_type": "code",
      "metadata": {
        "id": "a5jBrf1oGVrm",
        "colab_type": "code",
        "colab": {
          "base_uri": "https://localhost:8080/",
          "height": 235
        },
        "outputId": "5b34255e-bede-44fa-c777-2f6a6e99983b"
      },
      "source": [
        "%%bigquery --project $project_id\n",
        "\n",
        "SELECT\n",
        "  *\n",
        "FROM\n",
        "  ML.TRAINING_INFO(MODEL `party_predictor.pa_pr_model_1`)"
      ],
      "execution_count": 70,
      "outputs": [
        {
          "output_type": "execute_result",
          "data": {
            "text/html": [
              "<div>\n",
              "<style scoped>\n",
              "    .dataframe tbody tr th:only-of-type {\n",
              "        vertical-align: middle;\n",
              "    }\n",
              "\n",
              "    .dataframe tbody tr th {\n",
              "        vertical-align: top;\n",
              "    }\n",
              "\n",
              "    .dataframe thead th {\n",
              "        text-align: right;\n",
              "    }\n",
              "</style>\n",
              "<table border=\"1\" class=\"dataframe\">\n",
              "  <thead>\n",
              "    <tr style=\"text-align: right;\">\n",
              "      <th></th>\n",
              "      <th>training_run</th>\n",
              "      <th>iteration</th>\n",
              "      <th>loss</th>\n",
              "      <th>eval_loss</th>\n",
              "      <th>learning_rate</th>\n",
              "      <th>duration_ms</th>\n",
              "    </tr>\n",
              "  </thead>\n",
              "  <tbody>\n",
              "    <tr>\n",
              "      <th>0</th>\n",
              "      <td>0</td>\n",
              "      <td>5</td>\n",
              "      <td>0.597166</td>\n",
              "      <td>0.602906</td>\n",
              "      <td>6.4</td>\n",
              "      <td>5336</td>\n",
              "    </tr>\n",
              "    <tr>\n",
              "      <th>1</th>\n",
              "      <td>0</td>\n",
              "      <td>4</td>\n",
              "      <td>0.603014</td>\n",
              "      <td>0.606270</td>\n",
              "      <td>3.2</td>\n",
              "      <td>3728</td>\n",
              "    </tr>\n",
              "    <tr>\n",
              "      <th>2</th>\n",
              "      <td>0</td>\n",
              "      <td>3</td>\n",
              "      <td>0.614507</td>\n",
              "      <td>0.613718</td>\n",
              "      <td>1.6</td>\n",
              "      <td>5880</td>\n",
              "    </tr>\n",
              "    <tr>\n",
              "      <th>3</th>\n",
              "      <td>0</td>\n",
              "      <td>2</td>\n",
              "      <td>0.635066</td>\n",
              "      <td>0.632907</td>\n",
              "      <td>0.8</td>\n",
              "      <td>7419</td>\n",
              "    </tr>\n",
              "    <tr>\n",
              "      <th>4</th>\n",
              "      <td>0</td>\n",
              "      <td>1</td>\n",
              "      <td>0.659676</td>\n",
              "      <td>0.658043</td>\n",
              "      <td>0.4</td>\n",
              "      <td>6483</td>\n",
              "    </tr>\n",
              "    <tr>\n",
              "      <th>5</th>\n",
              "      <td>0</td>\n",
              "      <td>0</td>\n",
              "      <td>0.679982</td>\n",
              "      <td>0.679277</td>\n",
              "      <td>0.2</td>\n",
              "      <td>4304</td>\n",
              "    </tr>\n",
              "  </tbody>\n",
              "</table>\n",
              "</div>"
            ],
            "text/plain": [
              "   training_run  iteration      loss  eval_loss  learning_rate  duration_ms\n",
              "0             0          5  0.597166   0.602906            6.4         5336\n",
              "1             0          4  0.603014   0.606270            3.2         3728\n",
              "2             0          3  0.614507   0.613718            1.6         5880\n",
              "3             0          2  0.635066   0.632907            0.8         7419\n",
              "4             0          1  0.659676   0.658043            0.4         6483\n",
              "5             0          0  0.679982   0.679277            0.2         4304"
            ]
          },
          "metadata": {
            "tags": []
          },
          "execution_count": 70
        }
      ]
    },
    {
      "cell_type": "markdown",
      "metadata": {
        "id": "c54dlQBxGd2T",
        "colab_type": "text"
      },
      "source": [
        "#### Now let's evaluate this second model."
      ]
    },
    {
      "cell_type": "code",
      "metadata": {
        "id": "f_JLM315Ggyk",
        "colab_type": "code",
        "colab": {
          "base_uri": "https://localhost:8080/",
          "height": 80
        },
        "outputId": "027da7ad-3576-4af8-ecb5-87ea33aef964"
      },
      "source": [
        "# 0 if dem, 1 if rep\n",
        "\n",
        "%%bigquery --project $project_id\n",
        "\n",
        "SELECT\n",
        "  *\n",
        "FROM\n",
        "  ML.EVALUATE(MODEL `party_predictor.pa_pr_model_1`, (\n",
        "    select \n",
        "      age_targeting,\n",
        "      gender_targeting,\n",
        "\n",
        "      if (advertiser_id in (\n",
        "      'AR488306308034854912',\n",
        "      'AR230475229367894016',\n",
        "      'AR470291909525372928',\n",
        "      'AR105500339708362752',\n",
        "      'AR120847323008860160',\n",
        "      'AR157291735423123456',\n",
        "      'AR194446432348930048',\n",
        "      'AR276637125548441600',\n",
        "      'AR424466463902924800',\n",
        "      'AR89517838687010816'), 1, 0) as label\n",
        "\n",
        "    from \n",
        "    `bigquery-public-data.google_political_ads.campaign_targeting`\n",
        "\n",
        "    where\n",
        "      (advertiser_id in (\n",
        "      'AR488306308034854912',\n",
        "      'AR230475229367894016',\n",
        "      'AR470291909525372928',\n",
        "      'AR105500339708362752',\n",
        "      'AR120847323008860160',\n",
        "      'AR157291735423123456',\n",
        "      'AR194446432348930048',\n",
        "      'AR276637125548441600',\n",
        "      'AR424466463902924800',\n",
        "      'AR89517838687010816',\n",
        "      'AR458000056721604608',\n",
        "      'AR432709227698454528',\n",
        "      'AR101121809528651776',\n",
        "      'AR140403236820484096',\n",
        "      'AR485896728302583808',\n",
        "      'AR329053043867779072',\n",
        "      'AR383080296477622272',\n",
        "      'AR271344076572327936',\n",
        "      'AR492809907662225408',\n",
        "      'AR50710026028843008'\n",
        "      )) and (\n",
        "      campaign_id like \"%7\"\n",
        "      or campaign_id like \"%8\"\n",
        "      )\n",
        "    )\n",
        "  )"
      ],
      "execution_count": 72,
      "outputs": [
        {
          "output_type": "execute_result",
          "data": {
            "text/html": [
              "<div>\n",
              "<style scoped>\n",
              "    .dataframe tbody tr th:only-of-type {\n",
              "        vertical-align: middle;\n",
              "    }\n",
              "\n",
              "    .dataframe tbody tr th {\n",
              "        vertical-align: top;\n",
              "    }\n",
              "\n",
              "    .dataframe thead th {\n",
              "        text-align: right;\n",
              "    }\n",
              "</style>\n",
              "<table border=\"1\" class=\"dataframe\">\n",
              "  <thead>\n",
              "    <tr style=\"text-align: right;\">\n",
              "      <th></th>\n",
              "      <th>precision</th>\n",
              "      <th>recall</th>\n",
              "      <th>accuracy</th>\n",
              "      <th>f1_score</th>\n",
              "      <th>log_loss</th>\n",
              "      <th>roc_auc</th>\n",
              "    </tr>\n",
              "  </thead>\n",
              "  <tbody>\n",
              "    <tr>\n",
              "      <th>0</th>\n",
              "      <td>0.777159</td>\n",
              "      <td>0.584293</td>\n",
              "      <td>0.658492</td>\n",
              "      <td>0.667065</td>\n",
              "      <td>0.607034</td>\n",
              "      <td>0.506427</td>\n",
              "    </tr>\n",
              "  </tbody>\n",
              "</table>\n",
              "</div>"
            ],
            "text/plain": [
              "   precision    recall  accuracy  f1_score  log_loss   roc_auc\n",
              "0   0.777159  0.584293  0.658492  0.667065  0.607034  0.506427"
            ]
          },
          "metadata": {
            "tags": []
          },
          "execution_count": 72
        }
      ]
    },
    {
      "cell_type": "markdown",
      "metadata": {
        "id": "LrMWcK2WIpnA",
        "colab_type": "text"
      },
      "source": [
        "Not great. While sex and gender provide some indication as to political party, they are only 65% accurate.\n",
        "\n",
        "Let's try adding geographic information."
      ]
    },
    {
      "cell_type": "markdown",
      "metadata": {
        "id": "4Ato9JWPd5P-",
        "colab_type": "text"
      },
      "source": [
        "### Model, take two.\n",
        "Add geographic information as a feature, then train on training subset."
      ]
    },
    {
      "cell_type": "code",
      "metadata": {
        "id": "TfAHyxPmQJRh",
        "colab_type": "code",
        "colab": {
          "base_uri": "https://localhost:8080/",
          "height": 32
        },
        "outputId": "837a478b-be04-49ad-9136-5010b3cb0505"
      },
      "source": [
        "# 0 if dem, 1 if rep\n",
        "\n",
        "%%bigquery --project $project_id\n",
        "\n",
        "CREATE OR REPLACE MODEL `party_predictor.pa_pr_model`\n",
        "OPTIONS(model_type='logistic_reg') AS\n",
        "\n",
        "select \n",
        "  age_targeting,\n",
        "  gender_targeting,\n",
        "  geo_targeting_included,\n",
        "  geo_targeting_excluded,\n",
        "\n",
        "  if (advertiser_id in (\n",
        "  'AR488306308034854912',\n",
        "  'AR230475229367894016',\n",
        "  'AR470291909525372928',\n",
        "  'AR105500339708362752',\n",
        "  'AR120847323008860160',\n",
        "  'AR157291735423123456',\n",
        "  'AR194446432348930048',\n",
        "  'AR276637125548441600',\n",
        "  'AR424466463902924800',\n",
        "  'AR89517838687010816'), 1, 0) as label\n",
        "\n",
        "from \n",
        "`bigquery-public-data.google_political_ads.campaign_targeting`\n",
        "\n",
        "where\n",
        "  (advertiser_id in (\n",
        "  'AR488306308034854912',\n",
        "  'AR230475229367894016',\n",
        "  'AR470291909525372928',\n",
        "  'AR105500339708362752',\n",
        "  'AR120847323008860160',\n",
        "  'AR157291735423123456',\n",
        "  'AR194446432348930048',\n",
        "  'AR276637125548441600',\n",
        "  'AR424466463902924800',\n",
        "  'AR89517838687010816',\n",
        "  'AR458000056721604608',\n",
        "  'AR432709227698454528',\n",
        "  'AR101121809528651776',\n",
        "  'AR140403236820484096',\n",
        "  'AR485896728302583808',\n",
        "  'AR329053043867779072',\n",
        "  'AR383080296477622272',\n",
        "  'AR271344076572327936',\n",
        "  'AR492809907662225408',\n",
        "  'AR50710026028843008'\n",
        "  )) and (\n",
        "  campaign_id like \"%1\"\n",
        "  or campaign_id like \"%2\"\n",
        "  or campaign_id like \"%3\"\n",
        "  or campaign_id like \"%4\"\n",
        "  or campaign_id like \"%5\"\n",
        "  or campaign_id like \"%6\"\n",
        "  )\n"
      ],
      "execution_count": 63,
      "outputs": [
        {
          "output_type": "execute_result",
          "data": {
            "text/html": [
              "<div>\n",
              "<style scoped>\n",
              "    .dataframe tbody tr th:only-of-type {\n",
              "        vertical-align: middle;\n",
              "    }\n",
              "\n",
              "    .dataframe tbody tr th {\n",
              "        vertical-align: top;\n",
              "    }\n",
              "\n",
              "    .dataframe thead th {\n",
              "        text-align: right;\n",
              "    }\n",
              "</style>\n",
              "<table border=\"1\" class=\"dataframe\">\n",
              "  <thead>\n",
              "    <tr style=\"text-align: right;\">\n",
              "      <th></th>\n",
              "    </tr>\n",
              "  </thead>\n",
              "  <tbody>\n",
              "  </tbody>\n",
              "</table>\n",
              "</div>"
            ],
            "text/plain": [
              "Empty DataFrame\n",
              "Columns: []\n",
              "Index: []"
            ]
          },
          "metadata": {
            "tags": []
          },
          "execution_count": 63
        }
      ]
    },
    {
      "cell_type": "code",
      "metadata": {
        "id": "jrMlvqQ0VuK_",
        "colab_type": "code",
        "colab": {
          "base_uri": "https://localhost:8080/",
          "height": 297
        },
        "outputId": "5d063b43-033d-4ec5-ac6b-ec35b52e70bd"
      },
      "source": [
        "%%bigquery --project $project_id\n",
        "\n",
        "SELECT\n",
        "  *\n",
        "FROM\n",
        "  ML.TRAINING_INFO(MODEL `party_predictor.pa_pr_model`)"
      ],
      "execution_count": 65,
      "outputs": [
        {
          "output_type": "execute_result",
          "data": {
            "text/html": [
              "<div>\n",
              "<style scoped>\n",
              "    .dataframe tbody tr th:only-of-type {\n",
              "        vertical-align: middle;\n",
              "    }\n",
              "\n",
              "    .dataframe tbody tr th {\n",
              "        vertical-align: top;\n",
              "    }\n",
              "\n",
              "    .dataframe thead th {\n",
              "        text-align: right;\n",
              "    }\n",
              "</style>\n",
              "<table border=\"1\" class=\"dataframe\">\n",
              "  <thead>\n",
              "    <tr style=\"text-align: right;\">\n",
              "      <th></th>\n",
              "      <th>training_run</th>\n",
              "      <th>iteration</th>\n",
              "      <th>loss</th>\n",
              "      <th>eval_loss</th>\n",
              "      <th>learning_rate</th>\n",
              "      <th>duration_ms</th>\n",
              "    </tr>\n",
              "  </thead>\n",
              "  <tbody>\n",
              "    <tr>\n",
              "      <th>0</th>\n",
              "      <td>0</td>\n",
              "      <td>7</td>\n",
              "      <td>0.205651</td>\n",
              "      <td>0.271389</td>\n",
              "      <td>6.4</td>\n",
              "      <td>4105</td>\n",
              "    </tr>\n",
              "    <tr>\n",
              "      <th>1</th>\n",
              "      <td>0</td>\n",
              "      <td>6</td>\n",
              "      <td>0.208861</td>\n",
              "      <td>0.274066</td>\n",
              "      <td>12.8</td>\n",
              "      <td>3150</td>\n",
              "    </tr>\n",
              "    <tr>\n",
              "      <th>2</th>\n",
              "      <td>0</td>\n",
              "      <td>5</td>\n",
              "      <td>0.232724</td>\n",
              "      <td>0.293928</td>\n",
              "      <td>6.4</td>\n",
              "      <td>4143</td>\n",
              "    </tr>\n",
              "    <tr>\n",
              "      <th>3</th>\n",
              "      <td>0</td>\n",
              "      <td>4</td>\n",
              "      <td>0.282739</td>\n",
              "      <td>0.336344</td>\n",
              "      <td>3.2</td>\n",
              "      <td>4041</td>\n",
              "    </tr>\n",
              "    <tr>\n",
              "      <th>4</th>\n",
              "      <td>0</td>\n",
              "      <td>3</td>\n",
              "      <td>0.368464</td>\n",
              "      <td>0.411239</td>\n",
              "      <td>1.6</td>\n",
              "      <td>4123</td>\n",
              "    </tr>\n",
              "    <tr>\n",
              "      <th>5</th>\n",
              "      <td>0</td>\n",
              "      <td>2</td>\n",
              "      <td>0.474331</td>\n",
              "      <td>0.504524</td>\n",
              "      <td>0.8</td>\n",
              "      <td>3750</td>\n",
              "    </tr>\n",
              "    <tr>\n",
              "      <th>6</th>\n",
              "      <td>0</td>\n",
              "      <td>1</td>\n",
              "      <td>0.571835</td>\n",
              "      <td>0.588781</td>\n",
              "      <td>0.4</td>\n",
              "      <td>3973</td>\n",
              "    </tr>\n",
              "    <tr>\n",
              "      <th>7</th>\n",
              "      <td>0</td>\n",
              "      <td>0</td>\n",
              "      <td>0.645636</td>\n",
              "      <td>0.652202</td>\n",
              "      <td>0.2</td>\n",
              "      <td>3971</td>\n",
              "    </tr>\n",
              "  </tbody>\n",
              "</table>\n",
              "</div>"
            ],
            "text/plain": [
              "   training_run  iteration      loss  eval_loss  learning_rate  duration_ms\n",
              "0             0          7  0.205651   0.271389            6.4         4105\n",
              "1             0          6  0.208861   0.274066           12.8         3150\n",
              "2             0          5  0.232724   0.293928            6.4         4143\n",
              "3             0          4  0.282739   0.336344            3.2         4041\n",
              "4             0          3  0.368464   0.411239            1.6         4123\n",
              "5             0          2  0.474331   0.504524            0.8         3750\n",
              "6             0          1  0.571835   0.588781            0.4         3973\n",
              "7             0          0  0.645636   0.652202            0.2         3971"
            ]
          },
          "metadata": {
            "tags": []
          },
          "execution_count": 65
        }
      ]
    },
    {
      "cell_type": "markdown",
      "metadata": {
        "id": "ktxdE2X0eB1q",
        "colab_type": "text"
      },
      "source": [
        "#### Evaluate model performance"
      ]
    },
    {
      "cell_type": "code",
      "metadata": {
        "id": "70I4U4RcV1um",
        "colab_type": "code",
        "colab": {
          "base_uri": "https://localhost:8080/",
          "height": 80
        },
        "outputId": "1ae63954-eb73-4be5-ec68-685bcd656b1c"
      },
      "source": [
        "# 0 if dem, 1 if rep\n",
        "\n",
        "%%bigquery --project $project_id\n",
        "\n",
        "SELECT\n",
        "  *\n",
        "FROM\n",
        "  ML.EVALUATE(MODEL `party_predictor.pa_pr_model`, (\n",
        "    select \n",
        "      age_targeting,\n",
        "      gender_targeting,\n",
        "      geo_targeting_included,\n",
        "      geo_targeting_excluded,\n",
        "\n",
        "      if (advertiser_id in (\n",
        "      'AR488306308034854912',\n",
        "      'AR230475229367894016',\n",
        "      'AR470291909525372928',\n",
        "      'AR105500339708362752',\n",
        "      'AR120847323008860160',\n",
        "      'AR157291735423123456',\n",
        "      'AR194446432348930048',\n",
        "      'AR276637125548441600',\n",
        "      'AR424466463902924800',\n",
        "      'AR89517838687010816'), 1, 0) as label\n",
        "\n",
        "    from \n",
        "    `bigquery-public-data.google_political_ads.campaign_targeting`\n",
        "\n",
        "    where\n",
        "      (advertiser_id in (\n",
        "      'AR488306308034854912',\n",
        "      'AR230475229367894016',\n",
        "      'AR470291909525372928',\n",
        "      'AR105500339708362752',\n",
        "      'AR120847323008860160',\n",
        "      'AR157291735423123456',\n",
        "      'AR194446432348930048',\n",
        "      'AR276637125548441600',\n",
        "      'AR424466463902924800',\n",
        "      'AR89517838687010816',\n",
        "      'AR458000056721604608',\n",
        "      'AR432709227698454528',\n",
        "      'AR101121809528651776',\n",
        "      'AR140403236820484096',\n",
        "      'AR485896728302583808',\n",
        "      'AR329053043867779072',\n",
        "      'AR383080296477622272',\n",
        "      'AR271344076572327936',\n",
        "      'AR492809907662225408',\n",
        "      'AR50710026028843008'\n",
        "      )) and (\n",
        "      campaign_id like \"%7\"\n",
        "      or campaign_id like \"%8\"\n",
        "      )\n",
        "    )\n",
        "  )"
      ],
      "execution_count": 66,
      "outputs": [
        {
          "output_type": "execute_result",
          "data": {
            "text/html": [
              "<div>\n",
              "<style scoped>\n",
              "    .dataframe tbody tr th:only-of-type {\n",
              "        vertical-align: middle;\n",
              "    }\n",
              "\n",
              "    .dataframe tbody tr th {\n",
              "        vertical-align: top;\n",
              "    }\n",
              "\n",
              "    .dataframe thead th {\n",
              "        text-align: right;\n",
              "    }\n",
              "</style>\n",
              "<table border=\"1\" class=\"dataframe\">\n",
              "  <thead>\n",
              "    <tr style=\"text-align: right;\">\n",
              "      <th></th>\n",
              "      <th>precision</th>\n",
              "      <th>recall</th>\n",
              "      <th>accuracy</th>\n",
              "      <th>f1_score</th>\n",
              "      <th>log_loss</th>\n",
              "      <th>roc_auc</th>\n",
              "    </tr>\n",
              "  </thead>\n",
              "  <tbody>\n",
              "    <tr>\n",
              "      <th>0</th>\n",
              "      <td>0.900315</td>\n",
              "      <td>0.898429</td>\n",
              "      <td>0.882281</td>\n",
              "      <td>0.899371</td>\n",
              "      <td>0.276213</td>\n",
              "      <td>0.942659</td>\n",
              "    </tr>\n",
              "  </tbody>\n",
              "</table>\n",
              "</div>"
            ],
            "text/plain": [
              "   precision    recall  accuracy  f1_score  log_loss   roc_auc\n",
              "0   0.900315  0.898429  0.882281  0.899371  0.276213  0.942659"
            ]
          },
          "metadata": {
            "tags": []
          },
          "execution_count": 66
        }
      ]
    },
    {
      "cell_type": "markdown",
      "metadata": {
        "id": "_qJA9Nm5G2dO",
        "colab_type": "text"
      },
      "source": [
        "Significantly (~20%) better! Geographic region of an ad provides strong signal as to which party made that ad. In other words, Democrats and Republicans largely target different regions.\n",
        "\n",
        "In other words, age, gender, and geographic targeting together are sufficient to predict Democrat (0) or Republican (1) advertising with 88% accuracy.\n",
        "\n",
        "Let's evaluate this model on a test set, and look at some preditions.\n",
        "\n",
        "\n"
      ]
    },
    {
      "cell_type": "markdown",
      "metadata": {
        "id": "bjDhXZYybsBD",
        "colab_type": "text"
      },
      "source": [
        "#### Test Set Eval"
      ]
    },
    {
      "cell_type": "code",
      "metadata": {
        "id": "Fslkln2ZIgzi",
        "colab_type": "code",
        "colab": {
          "base_uri": "https://localhost:8080/",
          "height": 80
        },
        "outputId": "3a246cd5-0478-4dab-867c-4b63889fc281"
      },
      "source": [
        "# 0 if dem, 1 if rep\n",
        "\n",
        "%%bigquery --project $project_id\n",
        "\n",
        "SELECT\n",
        "  *\n",
        "FROM\n",
        "  ML.EVALUATE(MODEL `party_predictor.pa_pr_model`, (\n",
        "    select \n",
        "      age_targeting,\n",
        "      gender_targeting,\n",
        "      geo_targeting_included,\n",
        "      geo_targeting_excluded,\n",
        "\n",
        "      if (advertiser_id in (\n",
        "      'AR488306308034854912',\n",
        "      'AR230475229367894016',\n",
        "      'AR470291909525372928',\n",
        "      'AR105500339708362752',\n",
        "      'AR120847323008860160',\n",
        "      'AR157291735423123456',\n",
        "      'AR194446432348930048',\n",
        "      'AR276637125548441600',\n",
        "      'AR424466463902924800',\n",
        "      'AR89517838687010816'), 1, 0) as label\n",
        "\n",
        "    from \n",
        "    `bigquery-public-data.google_political_ads.campaign_targeting`\n",
        "\n",
        "    where\n",
        "      (advertiser_id in (\n",
        "      'AR488306308034854912',\n",
        "      'AR230475229367894016',\n",
        "      'AR470291909525372928',\n",
        "      'AR105500339708362752',\n",
        "      'AR120847323008860160',\n",
        "      'AR157291735423123456',\n",
        "      'AR194446432348930048',\n",
        "      'AR276637125548441600',\n",
        "      'AR424466463902924800',\n",
        "      'AR89517838687010816',\n",
        "      'AR458000056721604608',\n",
        "      'AR432709227698454528',\n",
        "      'AR101121809528651776',\n",
        "      'AR140403236820484096',\n",
        "      'AR485896728302583808',\n",
        "      'AR329053043867779072',\n",
        "      'AR383080296477622272',\n",
        "      'AR271344076572327936',\n",
        "      'AR492809907662225408',\n",
        "      'AR50710026028843008'\n",
        "      )) and (\n",
        "      campaign_id like \"%9\"\n",
        "      or campaign_id like \"%0\"\n",
        "      )\n",
        "    )\n",
        "  )"
      ],
      "execution_count": 73,
      "outputs": [
        {
          "output_type": "execute_result",
          "data": {
            "text/html": [
              "<div>\n",
              "<style scoped>\n",
              "    .dataframe tbody tr th:only-of-type {\n",
              "        vertical-align: middle;\n",
              "    }\n",
              "\n",
              "    .dataframe tbody tr th {\n",
              "        vertical-align: top;\n",
              "    }\n",
              "\n",
              "    .dataframe thead th {\n",
              "        text-align: right;\n",
              "    }\n",
              "</style>\n",
              "<table border=\"1\" class=\"dataframe\">\n",
              "  <thead>\n",
              "    <tr style=\"text-align: right;\">\n",
              "      <th></th>\n",
              "      <th>precision</th>\n",
              "      <th>recall</th>\n",
              "      <th>accuracy</th>\n",
              "      <th>f1_score</th>\n",
              "      <th>log_loss</th>\n",
              "      <th>roc_auc</th>\n",
              "    </tr>\n",
              "  </thead>\n",
              "  <tbody>\n",
              "    <tr>\n",
              "      <th>0</th>\n",
              "      <td>0.932331</td>\n",
              "      <td>0.894845</td>\n",
              "      <td>0.900542</td>\n",
              "      <td>0.913204</td>\n",
              "      <td>0.240772</td>\n",
              "      <td>0.957754</td>\n",
              "    </tr>\n",
              "  </tbody>\n",
              "</table>\n",
              "</div>"
            ],
            "text/plain": [
              "   precision    recall  accuracy  f1_score  log_loss   roc_auc\n",
              "0   0.932331  0.894845  0.900542  0.913204  0.240772  0.957754"
            ]
          },
          "metadata": {
            "tags": []
          },
          "execution_count": 73
        }
      ]
    },
    {
      "cell_type": "markdown",
      "metadata": {
        "id": "_sZhBo66JCYS",
        "colab_type": "text"
      },
      "source": [
        "Nice! The model still performs at ~90% accuracy."
      ]
    },
    {
      "cell_type": "markdown",
      "metadata": {
        "id": "RtD1WZMucswJ",
        "colab_type": "text"
      },
      "source": [
        "#### Predict Samples for each party\n",
        "Let's find examples of ad campaigns the model believes to be Republican"
      ]
    },
    {
      "cell_type": "code",
      "metadata": {
        "id": "H5T3ytPKWHT2",
        "colab_type": "code",
        "colab": {
          "base_uri": "https://localhost:8080/",
          "height": 685
        },
        "outputId": "f4bb63bf-bd56-4909-bbb1-e31a259bf139"
      },
      "source": [
        "%%bigquery --project $project_id\n",
        "\n",
        "SELECT\n",
        "  *\n",
        "FROM\n",
        "  ML.PREDICT(MODEL `party_predictor.pa_pr_model`,\n",
        "  (\n",
        "    select \n",
        "      age_targeting,\n",
        "      gender_targeting,\n",
        "      geo_targeting_included,\n",
        "      geo_targeting_excluded\n",
        "\n",
        "    from \n",
        "    `bigquery-public-data.google_political_ads.campaign_targeting`\n",
        "\n",
        "    where\n",
        "      (advertiser_id in (\n",
        "      'AR488306308034854912',\n",
        "      'AR230475229367894016',\n",
        "      'AR470291909525372928',\n",
        "      'AR105500339708362752',\n",
        "      'AR120847323008860160',\n",
        "      'AR157291735423123456',\n",
        "      'AR194446432348930048',\n",
        "      'AR276637125548441600',\n",
        "      'AR424466463902924800',\n",
        "      'AR89517838687010816',\n",
        "      'AR458000056721604608',\n",
        "      'AR432709227698454528',\n",
        "      'AR101121809528651776',\n",
        "      'AR140403236820484096',\n",
        "      'AR485896728302583808',\n",
        "      'AR329053043867779072',\n",
        "      'AR383080296477622272',\n",
        "      'AR271344076572327936',\n",
        "      'AR492809907662225408',\n",
        "      'AR50710026028843008'\n",
        "      )) and (\n",
        "      campaign_id like \"%9\"\n",
        "      or campaign_id like \"%0\"\n",
        "      )\n",
        "    # limit 10\n",
        "  )\n",
        ")\n",
        "where predicted_label = 1\n",
        "limit 10"
      ],
      "execution_count": 67,
      "outputs": [
        {
          "output_type": "execute_result",
          "data": {
            "text/html": [
              "<div>\n",
              "<style scoped>\n",
              "    .dataframe tbody tr th:only-of-type {\n",
              "        vertical-align: middle;\n",
              "    }\n",
              "\n",
              "    .dataframe tbody tr th {\n",
              "        vertical-align: top;\n",
              "    }\n",
              "\n",
              "    .dataframe thead th {\n",
              "        text-align: right;\n",
              "    }\n",
              "</style>\n",
              "<table border=\"1\" class=\"dataframe\">\n",
              "  <thead>\n",
              "    <tr style=\"text-align: right;\">\n",
              "      <th></th>\n",
              "      <th>predicted_label</th>\n",
              "      <th>predicted_label_probs</th>\n",
              "      <th>age_targeting</th>\n",
              "      <th>gender_targeting</th>\n",
              "      <th>geo_targeting_included</th>\n",
              "      <th>geo_targeting_excluded</th>\n",
              "    </tr>\n",
              "  </thead>\n",
              "  <tbody>\n",
              "    <tr>\n",
              "      <th>0</th>\n",
              "      <td>1</td>\n",
              "      <td>[{'label': 1, 'prob': 0.938653920761747}, {'la...</td>\n",
              "      <td>Not targeted</td>\n",
              "      <td>Not targeted</td>\n",
              "      <td>AZ-1,Arizona,United States</td>\n",
              "      <td>Not targeted</td>\n",
              "    </tr>\n",
              "    <tr>\n",
              "      <th>1</th>\n",
              "      <td>1</td>\n",
              "      <td>[{'label': 1, 'prob': 0.965311086021226}, {'la...</td>\n",
              "      <td>Not targeted</td>\n",
              "      <td>Not targeted</td>\n",
              "      <td>IL-14,Illinois,United States</td>\n",
              "      <td>Not targeted</td>\n",
              "    </tr>\n",
              "    <tr>\n",
              "      <th>2</th>\n",
              "      <td>1</td>\n",
              "      <td>[{'label': 1, 'prob': 0.960918645745057}, {'la...</td>\n",
              "      <td>Not targeted</td>\n",
              "      <td>Not targeted</td>\n",
              "      <td>PA-8,Pennsylvania,United States</td>\n",
              "      <td>Not targeted</td>\n",
              "    </tr>\n",
              "    <tr>\n",
              "      <th>3</th>\n",
              "      <td>1</td>\n",
              "      <td>[{'label': 1, 'prob': 0.9693616431435073}, {'l...</td>\n",
              "      <td>Not targeted</td>\n",
              "      <td>Not targeted</td>\n",
              "      <td>TX-32,Texas,United States</td>\n",
              "      <td>Not targeted</td>\n",
              "    </tr>\n",
              "    <tr>\n",
              "      <th>4</th>\n",
              "      <td>1</td>\n",
              "      <td>[{'label': 1, 'prob': 0.938653920761747}, {'la...</td>\n",
              "      <td>Not targeted</td>\n",
              "      <td>Not targeted</td>\n",
              "      <td>MN-7,Minnesota,United States</td>\n",
              "      <td>Not targeted</td>\n",
              "    </tr>\n",
              "    <tr>\n",
              "      <th>5</th>\n",
              "      <td>1</td>\n",
              "      <td>[{'label': 1, 'prob': 0.9945228249596492}, {'l...</td>\n",
              "      <td>18–24, 25–34, 35–44, 45–54, 55–64, ≥65, Unknow...</td>\n",
              "      <td>Male, Female, Unknown gender</td>\n",
              "      <td>OH-12,Ohio,United States</td>\n",
              "      <td>Not targeted</td>\n",
              "    </tr>\n",
              "    <tr>\n",
              "      <th>6</th>\n",
              "      <td>1</td>\n",
              "      <td>[{'label': 1, 'prob': 0.9945228249596492}, {'l...</td>\n",
              "      <td>18–24, 25–34, 35–44, 45–54, 55–64, ≥65, Unknow...</td>\n",
              "      <td>Male, Female, Unknown gender</td>\n",
              "      <td>OH-12,Ohio,United States</td>\n",
              "      <td>Not targeted</td>\n",
              "    </tr>\n",
              "    <tr>\n",
              "      <th>7</th>\n",
              "      <td>1</td>\n",
              "      <td>[{'label': 1, 'prob': 0.9945228249596492}, {'l...</td>\n",
              "      <td>18–24, 25–34, 35–44, 45–54, 55–64, ≥65, Unknow...</td>\n",
              "      <td>Male, Female, Unknown gender</td>\n",
              "      <td>OH-12,Ohio,United States</td>\n",
              "      <td>Not targeted</td>\n",
              "    </tr>\n",
              "    <tr>\n",
              "      <th>8</th>\n",
              "      <td>1</td>\n",
              "      <td>[{'label': 1, 'prob': 0.9795698083206893}, {'l...</td>\n",
              "      <td>45–54, 55–64, ≥65</td>\n",
              "      <td>Not targeted</td>\n",
              "      <td>12770, 18058, 18071, 18201, 18202, 18210, 1821...</td>\n",
              "      <td>Not targeted</td>\n",
              "    </tr>\n",
              "    <tr>\n",
              "      <th>9</th>\n",
              "      <td>1</td>\n",
              "      <td>[{'label': 1, 'prob': 0.9596549322791469}, {'l...</td>\n",
              "      <td>18–24, 25–34, 35–44, 45–54, 55–64, ≥65, Unknow...</td>\n",
              "      <td>Male, Female, Unknown gender</td>\n",
              "      <td>12770, 18058, 18071, 18201, 18202, 18210, 1821...</td>\n",
              "      <td>New York</td>\n",
              "    </tr>\n",
              "  </tbody>\n",
              "</table>\n",
              "</div>"
            ],
            "text/plain": [
              "   predicted_label  ... geo_targeting_excluded\n",
              "0                1  ...           Not targeted\n",
              "1                1  ...           Not targeted\n",
              "2                1  ...           Not targeted\n",
              "3                1  ...           Not targeted\n",
              "4                1  ...           Not targeted\n",
              "5                1  ...           Not targeted\n",
              "6                1  ...           Not targeted\n",
              "7                1  ...           Not targeted\n",
              "8                1  ...           Not targeted\n",
              "9                1  ...               New York\n",
              "\n",
              "[10 rows x 6 columns]"
            ]
          },
          "metadata": {
            "tags": []
          },
          "execution_count": 67
        }
      ]
    },
    {
      "cell_type": "markdown",
      "metadata": {
        "id": "Yc-25Q2-Xf56",
        "colab_type": "text"
      },
      "source": [
        "Similarly, let's find examples the model believes Democrat."
      ]
    },
    {
      "cell_type": "code",
      "metadata": {
        "id": "x_rY8a3JdDGq",
        "colab_type": "code",
        "colab": {
          "base_uri": "https://localhost:8080/",
          "height": 549
        },
        "outputId": "3d82ce17-452c-4aa7-8e73-55abf8455643"
      },
      "source": [
        "%%bigquery --project $project_id\n",
        "\n",
        "SELECT\n",
        "  *\n",
        "FROM\n",
        "  ML.PREDICT(MODEL `party_predictor.pa_pr_model`,\n",
        "  (\n",
        "    select \n",
        "      age_targeting,\n",
        "      gender_targeting,\n",
        "      geo_targeting_included,\n",
        "      geo_targeting_excluded\n",
        "\n",
        "    from \n",
        "    `bigquery-public-data.google_political_ads.campaign_targeting`\n",
        "\n",
        "    where\n",
        "      (advertiser_id in \n",
        "      (\n",
        "      'AR432709227698454528',\n",
        "      'AR101121809528651776',\n",
        "      'AR140403236820484096',\n",
        "      'AR485896728302583808',\n",
        "      'AR329053043867779072'\n",
        "      ) or advertiser_id in(\n",
        "      'AR488306308034854912',\n",
        "      'AR230475229367894016',\n",
        "      'AR120847323008860160',\n",
        "      'AR470291909525372928',\n",
        "      'AR105500339708362752'\n",
        "      )) and (\n",
        "      campaign_id like \"%9\"\n",
        "      or campaign_id like \"%0\"\n",
        "      )\n",
        "    # limit 10\n",
        "  )\n",
        ")\n",
        "where predicted_label = 0\n",
        "limit 10"
      ],
      "execution_count": 68,
      "outputs": [
        {
          "output_type": "execute_result",
          "data": {
            "text/html": [
              "<div>\n",
              "<style scoped>\n",
              "    .dataframe tbody tr th:only-of-type {\n",
              "        vertical-align: middle;\n",
              "    }\n",
              "\n",
              "    .dataframe tbody tr th {\n",
              "        vertical-align: top;\n",
              "    }\n",
              "\n",
              "    .dataframe thead th {\n",
              "        text-align: right;\n",
              "    }\n",
              "</style>\n",
              "<table border=\"1\" class=\"dataframe\">\n",
              "  <thead>\n",
              "    <tr style=\"text-align: right;\">\n",
              "      <th></th>\n",
              "      <th>predicted_label</th>\n",
              "      <th>predicted_label_probs</th>\n",
              "      <th>age_targeting</th>\n",
              "      <th>gender_targeting</th>\n",
              "      <th>geo_targeting_included</th>\n",
              "      <th>geo_targeting_excluded</th>\n",
              "    </tr>\n",
              "  </thead>\n",
              "  <tbody>\n",
              "    <tr>\n",
              "      <th>0</th>\n",
              "      <td>0</td>\n",
              "      <td>[{'label': 1, 'prob': 0.1516573193682295}, {'l...</td>\n",
              "      <td>Not targeted</td>\n",
              "      <td>Not targeted</td>\n",
              "      <td>United States</td>\n",
              "      <td>Not targeted</td>\n",
              "    </tr>\n",
              "    <tr>\n",
              "      <th>1</th>\n",
              "      <td>0</td>\n",
              "      <td>[{'label': 1, 'prob': 0.1516573193682295}, {'l...</td>\n",
              "      <td>Not targeted</td>\n",
              "      <td>Not targeted</td>\n",
              "      <td>United States</td>\n",
              "      <td>Not targeted</td>\n",
              "    </tr>\n",
              "    <tr>\n",
              "      <th>2</th>\n",
              "      <td>0</td>\n",
              "      <td>[{'label': 1, 'prob': 0.1516573193682295}, {'l...</td>\n",
              "      <td>Not targeted</td>\n",
              "      <td>Not targeted</td>\n",
              "      <td>United States</td>\n",
              "      <td>Not targeted</td>\n",
              "    </tr>\n",
              "    <tr>\n",
              "      <th>3</th>\n",
              "      <td>0</td>\n",
              "      <td>[{'label': 1, 'prob': 0.1516573193682295}, {'l...</td>\n",
              "      <td>Not targeted</td>\n",
              "      <td>Not targeted</td>\n",
              "      <td>United States</td>\n",
              "      <td>Not targeted</td>\n",
              "    </tr>\n",
              "    <tr>\n",
              "      <th>4</th>\n",
              "      <td>0</td>\n",
              "      <td>[{'label': 1, 'prob': 0.1516573193682295}, {'l...</td>\n",
              "      <td>Not targeted</td>\n",
              "      <td>Not targeted</td>\n",
              "      <td>United States</td>\n",
              "      <td>Not targeted</td>\n",
              "    </tr>\n",
              "    <tr>\n",
              "      <th>5</th>\n",
              "      <td>0</td>\n",
              "      <td>[{'label': 1, 'prob': 0.1516573193682295}, {'l...</td>\n",
              "      <td>Not targeted</td>\n",
              "      <td>Not targeted</td>\n",
              "      <td>United States</td>\n",
              "      <td>Not targeted</td>\n",
              "    </tr>\n",
              "    <tr>\n",
              "      <th>6</th>\n",
              "      <td>0</td>\n",
              "      <td>[{'label': 1, 'prob': 0.1516573193682295}, {'l...</td>\n",
              "      <td>Not targeted</td>\n",
              "      <td>Not targeted</td>\n",
              "      <td>United States</td>\n",
              "      <td>Not targeted</td>\n",
              "    </tr>\n",
              "    <tr>\n",
              "      <th>7</th>\n",
              "      <td>0</td>\n",
              "      <td>[{'label': 1, 'prob': 0.1516573193682295}, {'l...</td>\n",
              "      <td>Not targeted</td>\n",
              "      <td>Not targeted</td>\n",
              "      <td>United States</td>\n",
              "      <td>Not targeted</td>\n",
              "    </tr>\n",
              "    <tr>\n",
              "      <th>8</th>\n",
              "      <td>0</td>\n",
              "      <td>[{'label': 1, 'prob': 0.1516573193682295}, {'l...</td>\n",
              "      <td>Not targeted</td>\n",
              "      <td>Not targeted</td>\n",
              "      <td>United States</td>\n",
              "      <td>Not targeted</td>\n",
              "    </tr>\n",
              "    <tr>\n",
              "      <th>9</th>\n",
              "      <td>0</td>\n",
              "      <td>[{'label': 1, 'prob': 0.06399598060538209}, {'...</td>\n",
              "      <td>Not targeted</td>\n",
              "      <td>Not targeted</td>\n",
              "      <td>Washington</td>\n",
              "      <td>Not targeted</td>\n",
              "    </tr>\n",
              "  </tbody>\n",
              "</table>\n",
              "</div>"
            ],
            "text/plain": [
              "   predicted_label  ... geo_targeting_excluded\n",
              "0                0  ...           Not targeted\n",
              "1                0  ...           Not targeted\n",
              "2                0  ...           Not targeted\n",
              "3                0  ...           Not targeted\n",
              "4                0  ...           Not targeted\n",
              "5                0  ...           Not targeted\n",
              "6                0  ...           Not targeted\n",
              "7                0  ...           Not targeted\n",
              "8                0  ...           Not targeted\n",
              "9                0  ...           Not targeted\n",
              "\n",
              "[10 rows x 6 columns]"
            ]
          },
          "metadata": {
            "tags": []
          },
          "execution_count": 68
        }
      ]
    },
    {
      "cell_type": "markdown",
      "metadata": {
        "id": "Dg7Lhqi_yDcy",
        "colab_type": "text"
      },
      "source": [
        "## Conclusion"
      ]
    },
    {
      "cell_type": "markdown",
      "metadata": {
        "id": "YmVpTigjyHMY",
        "colab_type": "text"
      },
      "source": [
        "---\n",
        "From our explorations, we discovered meaningful differences in gender, age, and geographic targeting across Democrat and Republican political parties in the US.\n",
        "\n",
        "In recap:\n",
        "- Republicans advertise ~50% more than Democrats. \n",
        "- Florida, California, and Texas are the most targeted states.\n",
        "- Females are targeted slightly more than males.\n",
        "- Age is highly relevant, where those below 25 or above 65 years old are targeted less than those between.\n",
        "- Republicans target males more than females, and Democrats target females more than males.\n",
        "- Democrats target those aged 35+ more than those under 35, whereas Republicans target all ages roughly the same. \n",
        "\n",
        "\n",
        "We then defined a model which took just these demographic features for an ad campaign, and could successfully predict whether the campaign was Democratic or Republican 87% of the time.\n",
        "\n",
        "However, it's important to remember that the partisan classification was limited. It's possible that the top 10 donors do not represent the entirety of each party, especially since we observed a shift in total spending for each party as we increased the number of advertisers in consideration from 5 to 10.\n",
        "\n",
        "It's also relevant that these top donors are in flux, and that they are not cohesive. Different political candidates within the same party can have different messages with different target audiences. The fact that Bloomberg can appear suddenly, for example, demonstrates such potential for destabilization.\n",
        "\n",
        "Nonetheless, overall there remain clear trends of demographic ad targeting between Republicans and Democrats.\n",
        "\n",
        "\n",
        "---"
      ]
    }
  ]
}